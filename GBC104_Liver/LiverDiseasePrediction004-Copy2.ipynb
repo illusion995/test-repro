{
 "cells": [
  {
   "cell_type": "markdown",
   "metadata": {},
   "source": [
    "## GBC104 - Analysing Liver Disease Assignment \n",
    "In this assignment, we are using classification to determine which are the features that could help to\n",
    "give a good accuracy for liver disease\n",
    "\n",
    "The dataset came from https://www.kaggle.com/uciml/indian-liver-patient-records\n",
    "and it was collected from North East of Andhra Pradesh, India. It contains 416 liver patient records and 167 non liver patient records.\n",
    "\n",
    "<em><strong>Please note the original csv Total_Protiens - is mis-spelling , I have corrected the original header for correct spelling</strong></em>\n",
    "\n",
    "Attributes of the dataset is as follows:- \n",
    "\n",
    "| No.   | Attribute                     | Domain           |\n",
    "|:-----:| :---------------------------: | :---------:      |\n",
    "| 1     | Age\t\t\t\t            | Age of patient (Age over 89 is marked under \"90\")   |\n",
    "| 2     | Gender                        | Female, Male |\n",
    "| 3     | Total_Bilirubin               | Numerical        |\n",
    "| 4     | Direct_Bilirubin     \t\t\t\t| Numerical         |\n",
    "| 5     | Alkaline_Phosphotase              | Numerical         |\n",
    "| 6     | Alamine_Aminotransferase         | Numerical         |\n",
    "| 7     | Aspartate_Aminotransferase       | Numerical          |\n",
    "| 8     | Total_Proteins                  | Numerical          |\n",
    "| 9     | Albumin                          | Numerical        |\n",
    "| 10    | Albumin_and_Globulin_Ratio | Numerical          |\n",
    "| 11    | Dataset                           | Whether patient has liver disease [1=liver disease patient, 2= non live disease patient ]          |\n",
    "\n",
    "\n",
    "The first 10 lines of the data file is as follows:\n",
    "```\n",
    "65,Female,0.7,0.1,187,16,18,6.8,3.3,0.9,1\n",
    "62,Male,10.9,5.5,699,64,100,7.5,3.2,0.74,1\n",
    "62,Male,7.3,4.1,490,60,68,7,3.3,0.89,1\n",
    "58,Male,1,0.4,182,14,20,6.8,3.4,1,1\n",
    "72,Male,3.9,2,195,27,59,7.3,2.4,0.4,1\n",
    "46,Male,1.8,0.7,208,19,14,7.6,4.4,1.3,1\n",
    "26,Female,0.9,0.2,154,16,12,7,3.5,1,1\n",
    "29,Female,0.9,0.3,202,14,11,6.7,3.6,1.1,1\n",
    "17,Male,0.9,0.3,202,22,19,7.4,4.1,1.2,2\n",
    "\n",
    "```\n",
    "\n",
    "We shall use the liver disease dataset, and use different algo to run classifciation using spark to see if previous researches (predicting Random forest as the best algo) holds true \n",
    "\n",
    "### Loading the Data\n",
    "Let us first create the schema and load the data into a DataFrame:\n",
    "```python\n",
    "from pyspark.sql.types import *\n",
    "\n",
    "schema = StructType( [\n",
    "    StructField(\"Age\", DoubleType(), True),\n",
    "    StructField(\"Gender\", StringType(), True),\n",
    "    StructField(\"Total_Bilirubin\", DoubleType(), True),\n",
    "    StructField(\"Direct_Bilirubin\", DoubleType(), True),\n",
    "    StructField(\"Alkaline_Phosphotase\", DoubleType(), True),    \n",
    "    StructField(\"Alamine_Aminotransferase\", DoubleType(), True),\n",
    "    StructField(\"Aspartate_Aminotransferase\", DoubleType(), True),\n",
    "    StructField(\"Total_Proteins\", DoubleType(), True),\n",
    "    StructField(\"Albumin\",DoubleType(), True),\n",
    "    StructField(\"Albumin_and_Globulin_Ratio\", DoubleType(), True),\n",
    "    StructField(\"Dataset\", DoubleType(), True)\n",
    "])\n",
    "liver_df01 = spark.read.csv(\"/home/training/data/002_Liver/indian_liver_patient.csv\", schema=schema, header=True)\n",
    "```"
   ]
  },
  {
   "cell_type": "code",
   "execution_count": 1,
   "metadata": {},
   "outputs": [
    {
     "name": "stdout",
     "output_type": "stream",
     "text": [
      "root\n",
      " |-- Age: double (nullable = true)\n",
      " |-- Gender: string (nullable = true)\n",
      " |-- Total_Bilirubin: double (nullable = true)\n",
      " |-- Direct_Bilirubin: double (nullable = true)\n",
      " |-- Alkaline_Phosphotase: double (nullable = true)\n",
      " |-- Alamine_Aminotransferase: double (nullable = true)\n",
      " |-- Aspartate_Aminotransferase: double (nullable = true)\n",
      " |-- Total_Proteins: double (nullable = true)\n",
      " |-- Albumin: double (nullable = true)\n",
      " |-- Albumin_and_Globulin_Ratio: double (nullable = true)\n",
      " |-- Dataset: double (nullable = true)\n",
      "\n"
     ]
    }
   ],
   "source": [
    "from pyspark.sql.types import *\n",
    "from pyspark.sql.functions import coalesce, col, lit, when\n",
    "import pyspark.sql.functions as fn\n",
    "\n",
    "schema = StructType( [\n",
    "    StructField(\"Age\", DoubleType(), True),\n",
    "    StructField(\"Gender\", StringType(), True),\n",
    "    StructField(\"Total_Bilirubin\", DoubleType(), True),\n",
    "    StructField(\"Direct_Bilirubin\", DoubleType(), True),\n",
    "    StructField(\"Alkaline_Phosphotase\", DoubleType(), True),    \n",
    "    StructField(\"Alamine_Aminotransferase\", DoubleType(), True),\n",
    "    StructField(\"Aspartate_Aminotransferase\", DoubleType(), True),\n",
    "    StructField(\"Total_Proteins\", DoubleType(), True),\n",
    "    StructField(\"Albumin\",DoubleType(), True),\n",
    "    StructField(\"Albumin_and_Globulin_Ratio\", DoubleType(), True),\n",
    "    StructField(\"Dataset\", DoubleType(), True)\n",
    "])\n",
    "liver_df01 = spark.read.csv(\"/home/training/data/002_Liver/indian_liver_patient.csv\", schema=schema, header=True)\n",
    "liver_df01.printSchema() "
   ]
  },
  {
   "cell_type": "markdown",
   "metadata": {},
   "source": [
    "### Cleaning up the Data\n",
    "1. Finding out the descriptive statistics"
   ]
  },
  {
   "cell_type": "code",
   "execution_count": 2,
   "metadata": {},
   "outputs": [
    {
     "data": {
      "text/plain": [
       "583"
      ]
     },
     "execution_count": 2,
     "metadata": {},
     "output_type": "execute_result"
    }
   ],
   "source": [
    "liver_df01.count()"
   ]
  },
  {
   "cell_type": "code",
   "execution_count": 3,
   "metadata": {
    "scrolled": true
   },
   "outputs": [
    {
     "name": "stdout",
     "output_type": "stream",
     "text": [
      "root\n",
      " |-- Age: double (nullable = true)\n",
      " |-- Gender: string (nullable = true)\n",
      " |-- Total_Bilirubin: double (nullable = true)\n",
      " |-- Direct_Bilirubin: double (nullable = true)\n",
      " |-- Alkaline_Phosphotase: double (nullable = true)\n",
      " |-- Alamine_Aminotransferase: double (nullable = true)\n",
      " |-- Aspartate_Aminotransferase: double (nullable = true)\n",
      " |-- Total_Proteins: double (nullable = true)\n",
      " |-- Albumin: double (nullable = true)\n",
      " |-- Albumin_and_Globulin_Ratio: double (nullable = true)\n",
      " |-- Dataset: double (nullable = true)\n",
      "\n"
     ]
    }
   ],
   "source": [
    "liver_df01.printSchema()"
   ]
  },
  {
   "cell_type": "markdown",
   "metadata": {},
   "source": [
    "<em><strong>Let's rename those columns to some shortforms that is easier to remember</em></strong>"
   ]
  },
  {
   "cell_type": "code",
   "execution_count": 4,
   "metadata": {},
   "outputs": [
    {
     "data": {
      "text/plain": [
       "['Age',\n",
       " 'Gender',\n",
       " 'TB',\n",
       " 'DB',\n",
       " 'Alkphos',\n",
       " 'Sgpt',\n",
       " 'Sgot',\n",
       " 'TP',\n",
       " 'ALB',\n",
       " 'AGRatio',\n",
       " 'Dataset']"
      ]
     },
     "execution_count": 4,
     "metadata": {},
     "output_type": "execute_result"
    }
   ],
   "source": [
    "liver_df01 = liver_df01.withColumnRenamed(\"Total_Bilirubin\", \"TB\")\n",
    "liver_df01 = liver_df01.withColumnRenamed(\"Direct_Bilirubin\", \"DB\")\n",
    "liver_df01 = liver_df01.withColumnRenamed(\"Alkaline_Phosphotase\", \"Alkphos\")\n",
    "liver_df01 = liver_df01.withColumnRenamed(\"Alamine_Aminotransferase\", \"Sgpt\")\n",
    "liver_df01 = liver_df01.withColumnRenamed(\"Aspartate_Aminotransferase\", \"Sgot\")\n",
    "liver_df01 = liver_df01.withColumnRenamed(\"Total_Proteins\", \"TP\")\n",
    "liver_df01 = liver_df01.withColumnRenamed(\"Albumin\", \"ALB\")\n",
    "liver_df01 = liver_df01.withColumnRenamed(\"Albumin_and_Globulin_Ratio\", \"AGRatio\")\n",
    "liver_df01.columns"
   ]
  },
  {
   "cell_type": "markdown",
   "metadata": {},
   "source": [
    "Let's take a look at the gender distribution in the dataset."
   ]
  },
  {
   "cell_type": "code",
   "execution_count": 5,
   "metadata": {},
   "outputs": [
    {
     "name": "stdout",
     "output_type": "stream",
     "text": [
      "+------+-----+\n",
      "|Gender|count|\n",
      "+------+-----+\n",
      "|Female|  142|\n",
      "|  Male|  441|\n",
      "+------+-----+\n",
      "\n"
     ]
    }
   ],
   "source": [
    "liver_df01.groupby('Gender').count().show()"
   ]
  },
  {
   "cell_type": "markdown",
   "metadata": {},
   "source": [
    "### Here we see that females is under-representated - so it is possible that features do not apply so well for prediction in liver disease in females.\n"
   ]
  },
  {
   "cell_type": "markdown",
   "metadata": {},
   "source": [
    "Assign an id to each row, easier to track rows if there is a need to replace value"
   ]
  },
  {
   "cell_type": "code",
   "execution_count": 6,
   "metadata": {},
   "outputs": [
    {
     "name": "stdout",
     "output_type": "stream",
     "text": [
      "root\n",
      " |-- Age: double (nullable = true)\n",
      " |-- Gender: string (nullable = true)\n",
      " |-- TB: double (nullable = true)\n",
      " |-- DB: double (nullable = true)\n",
      " |-- Alkphos: double (nullable = true)\n",
      " |-- Sgpt: double (nullable = true)\n",
      " |-- Sgot: double (nullable = true)\n",
      " |-- TP: double (nullable = true)\n",
      " |-- ALB: double (nullable = true)\n",
      " |-- AGRatio: double (nullable = true)\n",
      " |-- Dataset: double (nullable = true)\n",
      " |-- new_id: long (nullable = false)\n",
      "\n"
     ]
    }
   ],
   "source": [
    "#assign an id to each row, easier to track for replacement of values if needed)\n",
    "liver_df01 = liver_df01.withColumn('new_id', fn.monotonically_increasing_id())\n",
    "liver_df01.printSchema()"
   ]
  },
  {
   "cell_type": "markdown",
   "metadata": {},
   "source": [
    "##### We will need to convert 'values in dataset' column to something that makes sense [1=liver disease, 0=no liver disease] and to rename 'dataset' to 'class' instead "
   ]
  },
  {
   "cell_type": "code",
   "execution_count": 7,
   "metadata": {},
   "outputs": [
    {
     "name": "stdout",
     "output_type": "stream",
     "text": [
      "+-------+\n",
      "|Dataset|\n",
      "+-------+\n",
      "|    1.0|\n",
      "|    2.0|\n",
      "+-------+\n",
      "\n",
      "+----+------+----+---+-------+----+-----+---+---+-------+-----+------+\n",
      "|Age |Gender|TB  |DB |Alkphos|Sgpt|Sgot |TP |ALB|AGRatio|Class|new_id|\n",
      "+----+------+----+---+-------+----+-----+---+---+-------+-----+------+\n",
      "|65.0|Female|0.7 |0.1|187.0  |16.0|18.0 |6.8|3.3|0.9    |1.0  |0     |\n",
      "|62.0|Male  |10.9|5.5|699.0  |64.0|100.0|7.5|3.2|0.74   |1.0  |1     |\n",
      "|62.0|Male  |7.3 |4.1|490.0  |60.0|68.0 |7.0|3.3|0.89   |1.0  |2     |\n",
      "|58.0|Male  |1.0 |0.4|182.0  |14.0|20.0 |6.8|3.4|1.0    |1.0  |3     |\n",
      "|72.0|Male  |3.9 |2.0|195.0  |27.0|59.0 |7.3|2.4|0.4    |1.0  |4     |\n",
      "+----+------+----+---+-------+----+-----+---+---+-------+-----+------+\n",
      "only showing top 5 rows\n",
      "\n",
      "+-----+\n",
      "|Class|\n",
      "+-----+\n",
      "|  0.0|\n",
      "|  1.0|\n",
      "+-----+\n",
      "\n",
      "+------+\n",
      "|Gender|\n",
      "+------+\n",
      "|Female|\n",
      "|  Male|\n",
      "+------+\n",
      "\n"
     ]
    }
   ],
   "source": [
    "#gets distinct column in dataset - expects only 1,2 \n",
    "liver_df01.select(\"Dataset\").distinct().show()\n",
    "liver_df02 = liver_df01.replace([1, 2], [1, 0], 'Dataset')\n",
    "liver_df02 = liver_df02.withColumnRenamed(\"Dataset\", \"Class\")\n",
    "liver_df02.show(5,truncate=False)\n",
    "#gets distinct column in classnow - expects only 1,0\n",
    "liver_df02.select(\"Class\").distinct().show()\n",
    "liver_df02.select(\"Gender\").distinct().show()"
   ]
  },
  {
   "cell_type": "markdown",
   "metadata": {},
   "source": [
    "#### Find out which columns have \"\" values or null values or isnan"
   ]
  },
  {
   "cell_type": "code",
   "execution_count": 8,
   "metadata": {},
   "outputs": [
    {
     "name": "stdout",
     "output_type": "stream",
     "text": [
      "null|empty|nan in [Age]  count = 0\n",
      "null|empty|nan in [Gender]  count = 0\n",
      "null|empty|nan in [TB]  count = 0\n",
      "null|empty|nan in [DB]  count = 0\n",
      "null|empty|nan in [Alkphos]  count = 0\n",
      "null|empty|nan in [Sgpt]  count = 0\n",
      "null|empty|nan in [Sgot]  count = 0\n",
      "null|empty|nan in [TP]  count = 0\n",
      "null|empty|nan in [ALB]  count = 0\n",
      "null|empty|nan in [AGRatio]  count = 4\n",
      "null|empty|nan in [Class]  count = 0\n",
      "null|empty|nan in [new_id]  count = 0\n"
     ]
    }
   ],
   "source": [
    "from pyspark.sql.functions import isnan\n",
    "\n",
    "#liver_df01.filter((liver_df01[\"Albumin_and_Globulin_Ratio\"] == \"\") | liver_df01[\"Albumin_and_Globulin_Ratio\"].isNull() | isnan(liver_df01[\"Albumin_and_Globulin_Ratio\"])).count()\n",
    "for i in liver_df02.columns: \n",
    "    count = liver_df02.filter( (liver_df02[i] == \"\") | liver_df02[i].isNull() | isnan(liver_df02[i])).count()\n",
    "    print(\"null|empty|nan in [\"+i+\"]  count = \"+str(count)) "
   ]
  },
  {
   "cell_type": "code",
   "execution_count": 9,
   "metadata": {
    "scrolled": true
   },
   "outputs": [
    {
     "name": "stdout",
     "output_type": "stream",
     "text": [
      "+----+------+---+---+-------+----+----+---+---+-------+-----+------+\n",
      "| Age|Gender| TB| DB|Alkphos|Sgpt|Sgot| TP|ALB|AGRatio|Class|new_id|\n",
      "+----+------+---+---+-------+----+----+---+---+-------+-----+------+\n",
      "|45.0|Female|0.9|0.3|  189.0|23.0|33.0|6.6|3.9|   null|  1.0|   209|\n",
      "|51.0|  Male|0.8|0.2|  230.0|24.0|46.0|6.5|3.1|   null|  1.0|   241|\n",
      "|35.0|Female|0.6|0.2|  180.0|12.0|15.0|5.2|2.7|   null|  0.0|   253|\n",
      "|27.0|  Male|1.3|0.6|  106.0|25.0|54.0|8.5|4.8|   null|  0.0|   312|\n",
      "+----+------+---+---+-------+----+----+---+---+-------+-----+------+\n",
      "\n"
     ]
    }
   ],
   "source": [
    "#take a look at those rows for AGRatio=null \n",
    "liver_df02.filter( (liver_df02[\"AGRatio\"] == \"\") | liver_df02[\"AGRatio\"].isNull() | isnan(liver_df02[\"AGRatio\"])).show()"
   ]
  },
  {
   "cell_type": "code",
   "execution_count": 10,
   "metadata": {},
   "outputs": [
    {
     "name": "stdout",
     "output_type": "stream",
     "text": [
      "+-------+------------------+\n",
      "|summary|               Age|\n",
      "+-------+------------------+\n",
      "|  count|               583|\n",
      "|   mean| 44.74614065180103|\n",
      "| stddev|16.189833304694375|\n",
      "|    min|               4.0|\n",
      "|    max|              90.0|\n",
      "+-------+------------------+\n",
      "\n",
      "+-------+-----------------+\n",
      "|summary|               TB|\n",
      "+-------+-----------------+\n",
      "|  count|              583|\n",
      "|   mean|3.298799313893652|\n",
      "| stddev|6.209521726180151|\n",
      "|    min|              0.4|\n",
      "|    max|             75.0|\n",
      "+-------+-----------------+\n",
      "\n",
      "+-------+------------------+\n",
      "|summary|                DB|\n",
      "+-------+------------------+\n",
      "|  count|               583|\n",
      "|   mean|1.4861063464837074|\n",
      "| stddev| 2.808497617658965|\n",
      "|    min|               0.1|\n",
      "|    max|              19.7|\n",
      "+-------+------------------+\n",
      "\n",
      "+-------+------------------+\n",
      "|summary|           Alkphos|\n",
      "+-------+------------------+\n",
      "|  count|               583|\n",
      "|   mean|290.57632933104634|\n",
      "| stddev|242.93798917934402|\n",
      "|    min|              63.0|\n",
      "|    max|            2110.0|\n",
      "+-------+------------------+\n",
      "\n",
      "+-------+-----------------+\n",
      "|summary|             Sgpt|\n",
      "+-------+-----------------+\n",
      "|  count|              583|\n",
      "|   mean|80.71355060034305|\n",
      "| stddev|182.6203560342026|\n",
      "|    min|             10.0|\n",
      "|    max|           2000.0|\n",
      "+-------+-----------------+\n",
      "\n",
      "+-------+------------------+\n",
      "|summary|              Sgot|\n",
      "+-------+------------------+\n",
      "|  count|               583|\n",
      "|   mean|109.91080617495712|\n",
      "| stddev| 288.9185290517341|\n",
      "|    min|              10.0|\n",
      "|    max|            4929.0|\n",
      "+-------+------------------+\n",
      "\n",
      "+-------+------------------+\n",
      "|summary|                TP|\n",
      "+-------+------------------+\n",
      "|  count|               583|\n",
      "|   mean| 6.483190394511151|\n",
      "| stddev|1.0854514840234648|\n",
      "|    min|               2.7|\n",
      "|    max|               9.6|\n",
      "+-------+------------------+\n",
      "\n",
      "+-------+-----------------+\n",
      "|summary|              ALB|\n",
      "+-------+-----------------+\n",
      "|  count|              583|\n",
      "|   mean| 3.14185248713551|\n",
      "| stddev|0.795518805964026|\n",
      "|    min|              0.9|\n",
      "|    max|              5.5|\n",
      "+-------+-----------------+\n",
      "\n",
      "+-------+-------------------+\n",
      "|summary|            AGRatio|\n",
      "+-------+-------------------+\n",
      "|  count|                579|\n",
      "|   mean| 0.9470639032815201|\n",
      "| stddev|0.31959210767237056|\n",
      "|    min|                0.3|\n",
      "|    max|                2.8|\n",
      "+-------+-------------------+\n",
      "\n"
     ]
    }
   ],
   "source": [
    "#take a look at the descriptive stats for these columns\n",
    "numerical_columns = [ ] \n",
    "numerical_columns = [ \"Age\", \"TB\",\"DB\", \"Alkphos\", \"Sgpt\",\"Sgot\",\"TP\" , \"ALB\",\"AGRatio\" ] \n",
    "for i in numerical_columns: \n",
    "    liver_df02.describe(i).show()"
   ]
  },
  {
   "cell_type": "code",
   "execution_count": 11,
   "metadata": {},
   "outputs": [
    {
     "name": "stdout",
     "output_type": "stream",
     "text": [
      "Pre-patch Data...Stats\n"
     ]
    },
    {
     "data": {
      "text/html": [
       "<table border=\"1\" class=\"dataframe\">\n",
       "  <thead>\n",
       "    <tr style=\"text-align: right;\">\n",
       "      <th></th>\n",
       "      <th>Age</th>\n",
       "      <th>TB</th>\n",
       "      <th>DB</th>\n",
       "      <th>Alkphos</th>\n",
       "      <th>Sgpt</th>\n",
       "      <th>Sgot</th>\n",
       "      <th>TP</th>\n",
       "      <th>ALB</th>\n",
       "      <th>AGRatio</th>\n",
       "    </tr>\n",
       "  </thead>\n",
       "  <tbody>\n",
       "    <tr>\n",
       "      <th>count</th>\n",
       "      <td>583.00</td>\n",
       "      <td>583.00</td>\n",
       "      <td>583.00</td>\n",
       "      <td>583.00</td>\n",
       "      <td>583.00</td>\n",
       "      <td>583.00</td>\n",
       "      <td>583.00</td>\n",
       "      <td>583.00</td>\n",
       "      <td>579.00</td>\n",
       "    </tr>\n",
       "    <tr>\n",
       "      <th>mean</th>\n",
       "      <td>44.75</td>\n",
       "      <td>3.30</td>\n",
       "      <td>1.49</td>\n",
       "      <td>290.58</td>\n",
       "      <td>80.71</td>\n",
       "      <td>109.91</td>\n",
       "      <td>6.48</td>\n",
       "      <td>3.14</td>\n",
       "      <td>0.95</td>\n",
       "    </tr>\n",
       "    <tr>\n",
       "      <th>std</th>\n",
       "      <td>16.19</td>\n",
       "      <td>6.21</td>\n",
       "      <td>2.81</td>\n",
       "      <td>242.94</td>\n",
       "      <td>182.62</td>\n",
       "      <td>288.92</td>\n",
       "      <td>1.09</td>\n",
       "      <td>0.80</td>\n",
       "      <td>0.32</td>\n",
       "    </tr>\n",
       "    <tr>\n",
       "      <th>min</th>\n",
       "      <td>4.00</td>\n",
       "      <td>0.40</td>\n",
       "      <td>0.10</td>\n",
       "      <td>63.00</td>\n",
       "      <td>10.00</td>\n",
       "      <td>10.00</td>\n",
       "      <td>2.70</td>\n",
       "      <td>0.90</td>\n",
       "      <td>0.30</td>\n",
       "    </tr>\n",
       "    <tr>\n",
       "      <th>25%</th>\n",
       "      <td>33.00</td>\n",
       "      <td>0.80</td>\n",
       "      <td>0.20</td>\n",
       "      <td>175.50</td>\n",
       "      <td>23.00</td>\n",
       "      <td>25.00</td>\n",
       "      <td>5.80</td>\n",
       "      <td>2.60</td>\n",
       "      <td>0.70</td>\n",
       "    </tr>\n",
       "    <tr>\n",
       "      <th>50%</th>\n",
       "      <td>45.00</td>\n",
       "      <td>1.00</td>\n",
       "      <td>0.30</td>\n",
       "      <td>208.00</td>\n",
       "      <td>35.00</td>\n",
       "      <td>42.00</td>\n",
       "      <td>6.60</td>\n",
       "      <td>3.10</td>\n",
       "      <td>0.93</td>\n",
       "    </tr>\n",
       "    <tr>\n",
       "      <th>75%</th>\n",
       "      <td>58.00</td>\n",
       "      <td>2.60</td>\n",
       "      <td>1.30</td>\n",
       "      <td>298.00</td>\n",
       "      <td>60.50</td>\n",
       "      <td>87.00</td>\n",
       "      <td>7.20</td>\n",
       "      <td>3.80</td>\n",
       "      <td>1.10</td>\n",
       "    </tr>\n",
       "    <tr>\n",
       "      <th>max</th>\n",
       "      <td>90.00</td>\n",
       "      <td>75.00</td>\n",
       "      <td>19.70</td>\n",
       "      <td>2,110.00</td>\n",
       "      <td>2,000.00</td>\n",
       "      <td>4,929.00</td>\n",
       "      <td>9.60</td>\n",
       "      <td>5.50</td>\n",
       "      <td>2.80</td>\n",
       "    </tr>\n",
       "  </tbody>\n",
       "</table>"
      ],
      "text/plain": [
       "<IPython.core.display.HTML object>"
      ]
     },
     "metadata": {},
     "output_type": "display_data"
    }
   ],
   "source": [
    "## display the stats in a friendly table using html\n",
    "print (\"Pre-patch Data...Stats\")\n",
    "import pandas as pd\n",
    "pd.options.display.float_format = \"{:,.2f}\".format\n",
    "\n",
    "pandas_DF = liver_df02.toPandas() \n",
    "\n",
    "descPSNAS= pandas_DF[numerical_columns].describe()\n",
    "\n",
    "descPSNAS['Age'].round(decimals=3)\n",
    "descPSNAS['TB'].round(decimals=3)\n",
    "descPSNAS['DB'].round(decimals=3)\n",
    "descPSNAS['Alkphos'].round(decimals=3)\n",
    "descPSNAS['Sgpt'].round(decimals=3)\n",
    "descPSNAS['Sgot'].round(decimals=3)\n",
    "descPSNAS['TP'].round(decimals=3)\n",
    "descPSNAS['ALB'].round(decimals=3)\n",
    "descPSNAS['AGRatio'].round(decimals=3)\n",
    "\n",
    "from IPython.display import display, HTML\n",
    "\n",
    "\n",
    "display(HTML(descPSNAS.to_html()))"
   ]
  },
  {
   "cell_type": "markdown",
   "metadata": {},
   "source": [
    "Since the empty rows are 2 for male and 2 for female, and 1=liver_disease,0=class, each, <em><strong>we replace them accordingly with mean of [AGRatio] for [liver_disease], and mean of AGRatio for [non-liver disease]</strong></em>"
   ]
  },
  {
   "cell_type": "code",
   "execution_count": 12,
   "metadata": {},
   "outputs": [
    {
     "name": "stdout",
     "output_type": "stream",
     "text": [
      " mean_AGRatio_diseased 0.9141787439613527\n",
      " mean_AGRatio_non_diseased 1.0295757575757576\n"
     ]
    }
   ],
   "source": [
    "#import pyspark.sql.functions as fn\n",
    "#gets the mean of AGRation for Liver disease =1 \n",
    "#mean_AGRatio_diseased = liver_df02.agg(fn.mean(liver_df02.filter(\"Class==1\")))\n",
    "#print (liver_df02.filter(liver_df02['Class']==1).agg({\"AGRatio\": \"avg\"}))\n",
    "mean_AGRatio_diseased_df = (liver_df02.filter(liver_df02['Class']==1).agg({\"AGRatio\": \"avg\"}))\n",
    "#print( type(mean_AGRatio_diseased_df))\n",
    "#liver_df02.filter(liver_df02.Class=1).groupBy(Class).avg('AGRatio')\n",
    "mean_AGRatio_diseased = mean_AGRatio_diseased_df.first()[0] \n",
    "\n",
    "print( ' mean_AGRatio_diseased ' + str(mean_AGRatio_diseased) )\n",
    "\n",
    "#gets the mean of AGRation for Liver disease =0\n",
    "mean_AGRatio_nondiseased_df = (liver_df02.filter(liver_df02['Class']==0).agg({\"AGRatio\": \"avg\"}))\n",
    "mean_AGRatio_non_diseased = mean_AGRatio_nondiseased_df.first()[0] \n",
    "print( ' mean_AGRatio_non_diseased ' + str(mean_AGRatio_non_diseased) )\n"
   ]
  },
  {
   "cell_type": "code",
   "execution_count": 13,
   "metadata": {},
   "outputs": [
    {
     "name": "stdout",
     "output_type": "stream",
     "text": [
      "+----+------+---+---+-------+----+----+---+---+-------+-----+------+------------------+\n",
      "| Age|Gender| TB| DB|Alkphos|Sgpt|Sgot| TP|ALB|AGRatio|Class|new_id|        newAGRatio|\n",
      "+----+------+---+---+-------+----+----+---+---+-------+-----+------+------------------+\n",
      "|45.0|Female|0.9|0.3|  189.0|23.0|33.0|6.6|3.9|   null|  1.0|   209|0.9141787439613527|\n",
      "|51.0|  Male|0.8|0.2|  230.0|24.0|46.0|6.5|3.1|   null|  1.0|   241|0.9141787439613527|\n",
      "|35.0|Female|0.6|0.2|  180.0|12.0|15.0|5.2|2.7|   null|  0.0|   253|1.0295757575757576|\n",
      "|27.0|  Male|1.3|0.6|  106.0|25.0|54.0|8.5|4.8|   null|  0.0|   312|1.0295757575757576|\n",
      "+----+------+---+---+-------+----+----+---+---+-------+-----+------+------------------+\n",
      "\n",
      "+---+------+---+---+-------+----+----+---+---+-------+-----+------+----------+\n",
      "|Age|Gender| TB| DB|Alkphos|Sgpt|Sgot| TP|ALB|AGRatio|Class|new_id|newAGRatio|\n",
      "+---+------+---+---+-------+----+----+---+---+-------+-----+------+----------+\n",
      "+---+------+---+---+-------+----+----+---+---+-------+-----+------+----------+\n",
      "\n"
     ]
    }
   ],
   "source": [
    "import pyspark.sql.functions as F\n",
    "liver_df02_t = liver_df02.withColumn('newAGRatio',\n",
    "    fn.when( (liver_df02.Class == 1) &  ((liver_df02.AGRatio == \"\") | liver_df02.AGRatio.isNull() | isnan(liver_df02.AGRatio)) , mean_AGRatio_diseased )\n",
    "     .when( (liver_df02.Class == 0) &  ((liver_df02.AGRatio == \"\") | liver_df02.AGRatio.isNull() | isnan(liver_df02.AGRatio)) , mean_AGRatio_non_diseased )\n",
    "     .otherwise(liver_df02.AGRatio))\n",
    "\n",
    "\n",
    "#liver_df02_t.show() \n",
    "#show if these rows are filled properly \n",
    "liver_df02_t.select(\"*\").where(\"new_id = 209 or new_id =241 or new_id =253 or new_id = 312 \").show()\n",
    "\n",
    "#find out if there's still empty,null,na\n",
    "liver_df02_t.filter( (liver_df02_t[\"newAGRatio\"] == \"\") | liver_df02_t[\"newAGRatio\"].isNull() | isnan(liver_df02_t[\"newAGRatio\"])).show()"
   ]
  },
  {
   "cell_type": "code",
   "execution_count": 14,
   "metadata": {},
   "outputs": [
    {
     "data": {
      "text/html": [
       "<table border=\"1\" class=\"dataframe\">\n",
       "  <thead>\n",
       "    <tr style=\"text-align: right;\">\n",
       "      <th></th>\n",
       "      <th>Age</th>\n",
       "      <th>TB</th>\n",
       "      <th>DB</th>\n",
       "      <th>Alkphos</th>\n",
       "      <th>Sgpt</th>\n",
       "      <th>Sgot</th>\n",
       "      <th>TP</th>\n",
       "      <th>ALB</th>\n",
       "      <th>AGRatio</th>\n",
       "      <th>Class</th>\n",
       "      <th>new_id</th>\n",
       "      <th>newAGRatio</th>\n",
       "    </tr>\n",
       "  </thead>\n",
       "  <tbody>\n",
       "    <tr>\n",
       "      <th>count</th>\n",
       "      <td>583.00</td>\n",
       "      <td>583.00</td>\n",
       "      <td>583.00</td>\n",
       "      <td>583.00</td>\n",
       "      <td>583.00</td>\n",
       "      <td>583.00</td>\n",
       "      <td>583.00</td>\n",
       "      <td>583.00</td>\n",
       "      <td>579.00</td>\n",
       "      <td>583.00</td>\n",
       "      <td>583.00</td>\n",
       "      <td>583.00</td>\n",
       "    </tr>\n",
       "    <tr>\n",
       "      <th>mean</th>\n",
       "      <td>44.75</td>\n",
       "      <td>3.30</td>\n",
       "      <td>1.49</td>\n",
       "      <td>290.58</td>\n",
       "      <td>80.71</td>\n",
       "      <td>109.91</td>\n",
       "      <td>6.48</td>\n",
       "      <td>3.14</td>\n",
       "      <td>0.95</td>\n",
       "      <td>0.71</td>\n",
       "      <td>291.00</td>\n",
       "      <td>0.95</td>\n",
       "    </tr>\n",
       "    <tr>\n",
       "      <th>std</th>\n",
       "      <td>16.19</td>\n",
       "      <td>6.21</td>\n",
       "      <td>2.81</td>\n",
       "      <td>242.94</td>\n",
       "      <td>182.62</td>\n",
       "      <td>288.92</td>\n",
       "      <td>1.09</td>\n",
       "      <td>0.80</td>\n",
       "      <td>0.32</td>\n",
       "      <td>0.45</td>\n",
       "      <td>168.44</td>\n",
       "      <td>0.32</td>\n",
       "    </tr>\n",
       "    <tr>\n",
       "      <th>min</th>\n",
       "      <td>4.00</td>\n",
       "      <td>0.40</td>\n",
       "      <td>0.10</td>\n",
       "      <td>63.00</td>\n",
       "      <td>10.00</td>\n",
       "      <td>10.00</td>\n",
       "      <td>2.70</td>\n",
       "      <td>0.90</td>\n",
       "      <td>0.30</td>\n",
       "      <td>0.00</td>\n",
       "      <td>0.00</td>\n",
       "      <td>0.30</td>\n",
       "    </tr>\n",
       "    <tr>\n",
       "      <th>25%</th>\n",
       "      <td>33.00</td>\n",
       "      <td>0.80</td>\n",
       "      <td>0.20</td>\n",
       "      <td>175.50</td>\n",
       "      <td>23.00</td>\n",
       "      <td>25.00</td>\n",
       "      <td>5.80</td>\n",
       "      <td>2.60</td>\n",
       "      <td>0.70</td>\n",
       "      <td>0.00</td>\n",
       "      <td>145.50</td>\n",
       "      <td>0.70</td>\n",
       "    </tr>\n",
       "    <tr>\n",
       "      <th>50%</th>\n",
       "      <td>45.00</td>\n",
       "      <td>1.00</td>\n",
       "      <td>0.30</td>\n",
       "      <td>208.00</td>\n",
       "      <td>35.00</td>\n",
       "      <td>42.00</td>\n",
       "      <td>6.60</td>\n",
       "      <td>3.10</td>\n",
       "      <td>0.93</td>\n",
       "      <td>1.00</td>\n",
       "      <td>291.00</td>\n",
       "      <td>0.93</td>\n",
       "    </tr>\n",
       "    <tr>\n",
       "      <th>75%</th>\n",
       "      <td>58.00</td>\n",
       "      <td>2.60</td>\n",
       "      <td>1.30</td>\n",
       "      <td>298.00</td>\n",
       "      <td>60.50</td>\n",
       "      <td>87.00</td>\n",
       "      <td>7.20</td>\n",
       "      <td>3.80</td>\n",
       "      <td>1.10</td>\n",
       "      <td>1.00</td>\n",
       "      <td>436.50</td>\n",
       "      <td>1.10</td>\n",
       "    </tr>\n",
       "    <tr>\n",
       "      <th>max</th>\n",
       "      <td>90.00</td>\n",
       "      <td>75.00</td>\n",
       "      <td>19.70</td>\n",
       "      <td>2,110.00</td>\n",
       "      <td>2,000.00</td>\n",
       "      <td>4,929.00</td>\n",
       "      <td>9.60</td>\n",
       "      <td>5.50</td>\n",
       "      <td>2.80</td>\n",
       "      <td>1.00</td>\n",
       "      <td>582.00</td>\n",
       "      <td>2.80</td>\n",
       "    </tr>\n",
       "  </tbody>\n",
       "</table>"
      ],
      "text/plain": [
       "<IPython.core.display.HTML object>"
      ]
     },
     "metadata": {},
     "output_type": "display_data"
    }
   ],
   "source": [
    "## display the stats in a friendly table\n",
    "import pandas as pd\n",
    "pd.options.display.float_format = \"{:,.2f}\".format\n",
    "\n",
    "pandas_DF = liver_df02_t.toPandas() \n",
    "\n",
    "descPSNAS= pandas_DF.describe()\n",
    "\n",
    "descPSNAS['Age'].round(decimals=3)\n",
    "descPSNAS['TB'].round(decimals=3)\n",
    "descPSNAS['DB'].round(decimals=3)\n",
    "descPSNAS['Alkphos'].round(decimals=3)\n",
    "descPSNAS['Sgpt'].round(decimals=3)\n",
    "descPSNAS['Sgot'].round(decimals=3)\n",
    "descPSNAS['TP'].round(decimals=3)\n",
    "descPSNAS['ALB'].round(decimals=3)\n",
    "descPSNAS['AGRatio'].round(decimals=3)\n",
    "descPSNAS['newAGRatio'].round(decimals=3)\n",
    "\n",
    "from IPython.display import display, HTML\n",
    "\n",
    "\n",
    "display(HTML(descPSNAS.to_html()))"
   ]
  },
  {
   "cell_type": "code",
   "execution_count": 15,
   "metadata": {},
   "outputs": [
    {
     "name": "stdout",
     "output_type": "stream",
     "text": [
      "+-------+------------------+\n",
      "|summary|               Age|\n",
      "+-------+------------------+\n",
      "|  count|               583|\n",
      "|   mean| 44.74614065180103|\n",
      "| stddev|16.189833304694375|\n",
      "|    min|               4.0|\n",
      "|    max|              90.0|\n",
      "+-------+------------------+\n",
      "\n",
      "+-------+-----------------+\n",
      "|summary|               TB|\n",
      "+-------+-----------------+\n",
      "|  count|              583|\n",
      "|   mean|3.298799313893652|\n",
      "| stddev|6.209521726180151|\n",
      "|    min|              0.4|\n",
      "|    max|             75.0|\n",
      "+-------+-----------------+\n",
      "\n",
      "+-------+------------------+\n",
      "|summary|                DB|\n",
      "+-------+------------------+\n",
      "|  count|               583|\n",
      "|   mean|1.4861063464837074|\n",
      "| stddev| 2.808497617658965|\n",
      "|    min|               0.1|\n",
      "|    max|              19.7|\n",
      "+-------+------------------+\n",
      "\n",
      "+-------+------------------+\n",
      "|summary|           Alkphos|\n",
      "+-------+------------------+\n",
      "|  count|               583|\n",
      "|   mean|290.57632933104634|\n",
      "| stddev|242.93798917934402|\n",
      "|    min|              63.0|\n",
      "|    max|            2110.0|\n",
      "+-------+------------------+\n",
      "\n",
      "+-------+-----------------+\n",
      "|summary|             Sgpt|\n",
      "+-------+-----------------+\n",
      "|  count|              583|\n",
      "|   mean|80.71355060034305|\n",
      "| stddev|182.6203560342026|\n",
      "|    min|             10.0|\n",
      "|    max|           2000.0|\n",
      "+-------+-----------------+\n",
      "\n",
      "+-------+------------------+\n",
      "|summary|              Sgot|\n",
      "+-------+------------------+\n",
      "|  count|               583|\n",
      "|   mean|109.91080617495712|\n",
      "| stddev| 288.9185290517341|\n",
      "|    min|              10.0|\n",
      "|    max|            4929.0|\n",
      "+-------+------------------+\n",
      "\n",
      "+-------+------------------+\n",
      "|summary|                TP|\n",
      "+-------+------------------+\n",
      "|  count|               583|\n",
      "|   mean| 6.483190394511151|\n",
      "| stddev|1.0854514840234648|\n",
      "|    min|               2.7|\n",
      "|    max|               9.6|\n",
      "+-------+------------------+\n",
      "\n",
      "+-------+-----------------+\n",
      "|summary|              ALB|\n",
      "+-------+-----------------+\n",
      "|  count|              583|\n",
      "|   mean| 3.14185248713551|\n",
      "| stddev|0.795518805964026|\n",
      "|    min|              0.9|\n",
      "|    max|              5.5|\n",
      "+-------+-----------------+\n",
      "\n",
      "+-------+-------------------+\n",
      "|summary|            AGRatio|\n",
      "+-------+-------------------+\n",
      "|  count|                579|\n",
      "|   mean| 0.9470639032815201|\n",
      "| stddev|0.31959210767237056|\n",
      "|    min|                0.3|\n",
      "|    max|                2.8|\n",
      "+-------+-------------------+\n",
      "\n",
      "+-------+-------------------+\n",
      "|summary|         newAGRatio|\n",
      "+-------+-------------------+\n",
      "|  count|                583|\n",
      "|   mean| 0.9472341492334038|\n",
      "| stddev|0.31853447438324695|\n",
      "|    min|                0.3|\n",
      "|    max|                2.8|\n",
      "+-------+-------------------+\n",
      "\n"
     ]
    }
   ],
   "source": [
    "#optional - describe in each column \n",
    "numerical_columns = [ \"Age\", \"TB\",\"DB\", \"Alkphos\", \"Sgpt\",\"Sgot\",\"TP\" , \"ALB\",\"AGRatio\" , \"newAGRatio\"] \n",
    "for i in numerical_columns: \n",
    "    liver_df02_t.describe(i).show()\n",
    "#print out a histogram and see what's going on now "
   ]
  },
  {
   "cell_type": "code",
   "execution_count": 16,
   "metadata": {},
   "outputs": [
    {
     "name": "stdout",
     "output_type": "stream",
     "text": [
      "[0.8, 2.1]\n",
      "+----+------+----+---+-------+------+-----+---+---+-------+-----+------+----------+\n",
      "| Age|Gender|  TB| DB|Alkphos|  Sgpt| Sgot| TP|ALB|AGRatio|Class|new_id|newAGRatio|\n",
      "+----+------+----+---+-------+------+-----+---+---+-------+-----+------+----------+\n",
      "|62.0|  Male|10.9|5.5|  699.0|  64.0|100.0|7.5|3.2|   0.74|  1.0|     1|      0.74|\n",
      "|62.0|  Male| 7.3|4.1|  490.0|  60.0| 68.0|7.0|3.3|   0.89|  1.0|     2|      0.89|\n",
      "|62.0|  Male| 6.8|3.0|  542.0| 116.0| 66.0|6.4|3.1|    0.9|  1.0|    22|       0.9|\n",
      "|34.0|  Male| 4.1|2.0|  289.0| 875.0|731.0|5.0|2.7|    1.1|  1.0|    25|       1.1|\n",
      "|34.0|  Male| 4.1|2.0|  289.0| 875.0|731.0|5.0|2.7|    1.1|  1.0|    26|       1.1|\n",
      "|34.0|  Male| 6.2|3.0|  240.0|1680.0|850.0|7.2|4.0|    1.2|  1.0|    27|       1.2|\n",
      "|46.0|Female|14.2|7.8|  374.0|  38.0| 77.0|4.3|2.0|    0.8|  1.0|    37|       0.8|\n",
      "|42.0|  Male| 6.8|3.2|  630.0|  25.0| 47.0|6.1|2.3|    0.6|  0.0|    42|       0.6|\n",
      "|55.0|  Male|18.4|8.8|  206.0|  64.0|178.0|6.2|1.8|    0.4|  1.0|    49|       0.4|\n",
      "|42.0|  Male| 8.9|4.5|  272.0|  31.0| 61.0|5.8|2.0|    0.5|  1.0|    54|       0.5|\n",
      "|42.0|  Male| 8.9|4.5|  272.0|  31.0| 61.0|5.8|2.0|    0.5|  1.0|    55|       0.5|\n",
      "|60.0|  Male| 5.7|2.8|  214.0| 412.0|850.0|7.3|3.2|   0.78|  1.0|    90|      0.78|\n",
      "|60.0|  Male| 6.8|3.2|  308.0| 404.0|794.0|6.8|3.0|    0.7|  1.0|    91|       0.7|\n",
      "|60.0|  Male| 8.6|4.0|  298.0| 412.0|850.0|7.4|3.0|    0.6|  1.0|    92|       0.6|\n",
      "|60.0|  Male| 5.8|2.7|  204.0| 220.0|400.0|7.0|3.0|    0.7|  1.0|    93|       0.7|\n",
      "|60.0|  Male| 5.2|2.4|  168.0| 126.0|202.0|6.8|2.9|    0.7|  1.0|    94|       0.7|\n",
      "|39.0|  Male| 6.6|3.0|  215.0| 190.0|950.0|4.0|1.7|    0.7|  1.0|    97|       0.7|\n",
      "|36.0|  Male| 5.3|2.3|  145.0|  32.0| 92.0|5.1|2.6|    1.0|  0.0|   105|       1.0|\n",
      "|36.0|  Male| 5.3|2.3|  145.0|  32.0| 92.0|5.1|2.6|    1.0|  0.0|   106|       1.0|\n",
      "|50.0|  Male| 5.8|3.0|  661.0| 181.0|285.0|5.7|2.3|   0.67|  0.0|   114|      0.67|\n",
      "+----+------+----+---+-------+------+-----+---+---+-------+-----+------+----------+\n",
      "only showing top 20 rows\n",
      "\n"
     ]
    }
   ],
   "source": [
    "#get outliers for TB\n",
    "quantiles_TB = liver_df02_t.approxQuantile(\"TB\", [0.25, 0.75], 0.05)\n",
    "print ( quantiles_TB )\n",
    "IQR_TB = quantiles_TB[1] - quantiles_TB[0]\n",
    "boundsTB = [ quantiles_TB[0] - 1.5 * IQR_TB, quantiles_TB[1] + 1.5 * IQR_TB ]\n",
    "##show those records that are outliers for TB \n",
    "liver_df02_t.filter( (liver_df02_t.TB < boundsTB[0]) | (liver_df02_t.TB > boundsTB[1]) ).show()\n"
   ]
  },
  {
   "cell_type": "code",
   "execution_count": 17,
   "metadata": {},
   "outputs": [
    {
     "data": {
      "image/png": "[encoded data removed]",
      "text/plain": [
       "<Figure size 432x288 with 1 Axes>"
      ]
     },
     "metadata": {},
     "output_type": "display_data"
    }
   ],
   "source": [
    "%matplotlib inline\n",
    "import matplotlib.pyplot as plt\n",
    "plt.style.use('ggplot')\n",
    "sampleDF = liver_df02_t.sample(fraction = 0.1)\n",
    "bal_list = [i[0] for i in sampleDF.select(\"Age\").collect()]\n",
    "#print (type (bal_list))\n",
    "#for x in range(len(bal_list)): \n",
    "#    print(bal_list[x]) \n",
    "plt.title(\"Histogram of 'Age'\")\n",
    "plt.hist(bal_list, bins = 20,color = \"#00AFBB\",edgecolor='blue')\n",
    "plt.show()\n",
    "#plt.hist(bal_list, bins = 20,color = \"#00AFBB\",edgecolor='blue')"
   ]
  },
  {
   "cell_type": "code",
   "execution_count": 18,
   "metadata": {},
   "outputs": [
    {
     "data": {
      "image/png": "[encoded data removed]",
      "text/plain": [
       "<Figure size 432x288 with 1 Axes>"
      ]
     },
     "metadata": {},
     "output_type": "display_data"
    }
   ],
   "source": [
    "%matplotlib inline\n",
    "import matplotlib.pyplot as plt\n",
    "plt.style.use('ggplot')\n",
    "sampleDF = liver_df02_t.sample(fraction = 0.1)\n",
    "bal_list = [i[0] for i in sampleDF.select(\"TB\").collect()]\n",
    "plt.title(\"Histogram of 'TB'\")\n",
    "plt.hist(bal_list, bins = 20, color = \"#00AFBB\",edgecolor='blue')\n",
    "plt.show()"
   ]
  },
  {
   "cell_type": "code",
   "execution_count": 19,
   "metadata": {},
   "outputs": [
    {
     "data": {
      "image/png": "[encoded data removed]",
      "text/plain": [
       "<Figure size 432x288 with 1 Axes>"
      ]
     },
     "metadata": {},
     "output_type": "display_data"
    }
   ],
   "source": [
    "%matplotlib inline\n",
    "import matplotlib.pyplot as plt\n",
    "plt.style.use('ggplot')\n",
    "sampleDF = liver_df02_t.sample(fraction = 0.1)\n",
    "bal_list = [i[0] for i in sampleDF.select(\"DB\").collect()]\n",
    "plt.title(\"Histogram of 'DB'\")\n",
    "plt.hist(bal_list, bins = 20, color = \"#00AFBB\",edgecolor='blue')\n",
    "plt.show()"
   ]
  },
  {
   "cell_type": "code",
   "execution_count": 20,
   "metadata": {},
   "outputs": [
    {
     "data": {
      "image/png": "[encoded data removed]",
      "text/plain": [
       "<Figure size 432x288 with 1 Axes>"
      ]
     },
     "metadata": {},
     "output_type": "display_data"
    }
   ],
   "source": [
    "%matplotlib inline\n",
    "import matplotlib.pyplot as plt\n",
    "plt.style.use('ggplot')\n",
    "sampleDF = liver_df02_t.sample(fraction = 0.1)\n",
    "bal_list = [i[0] for i in sampleDF.select(\"Alkphos\").collect()]\n",
    "plt.title(\"Histogram of 'Alkphos'\")\n",
    "plt.hist(bal_list, bins = 20, color = \"#00AFBB\",edgecolor='blue')\n",
    "plt.show()"
   ]
  },
  {
   "cell_type": "code",
   "execution_count": 21,
   "metadata": {},
   "outputs": [
    {
     "data": {
      "image/png": "[encoded data removed]",
      "text/plain": [
       "<Figure size 432x288 with 1 Axes>"
      ]
     },
     "metadata": {},
     "output_type": "display_data"
    }
   ],
   "source": [
    "%matplotlib inline\n",
    "import matplotlib.pyplot as plt\n",
    "plt.style.use('ggplot')\n",
    "sampleDF = liver_df02_t.sample(fraction = 0.1)\n",
    "bal_list = [i[0] for i in sampleDF.select(\"Sgpt\").collect()]\n",
    "plt.title(\"Histogram of 'Sgpt'\")\n",
    "plt.hist(bal_list, bins = 20, color = \"#00AFBB\",edgecolor='blue')\n",
    "plt.show()"
   ]
  },
  {
   "cell_type": "code",
   "execution_count": 22,
   "metadata": {},
   "outputs": [
    {
     "data": {
      "image/png": "[encoded data removed]",
      "text/plain": [
       "<Figure size 432x288 with 1 Axes>"
      ]
     },
     "metadata": {},
     "output_type": "display_data"
    }
   ],
   "source": [
    "%matplotlib inline\n",
    "import matplotlib.pyplot as plt\n",
    "plt.style.use('ggplot')\n",
    "sampleDF = liver_df02_t.sample(fraction = 0.1)\n",
    "bal_list = [i[0] for i in sampleDF.select(\"Sgot\").collect()]\n",
    "plt.title(\"Histogram of 'Sgot'\")\n",
    "plt.hist(bal_list, bins = 20, color = \"#00AFBB\",edgecolor='blue')\n",
    "plt.show()"
   ]
  },
  {
   "cell_type": "code",
   "execution_count": 23,
   "metadata": {},
   "outputs": [
    {
     "data": {
      "image/png": "[encoded data removed]",
      "text/plain": [
       "<Figure size 432x288 with 1 Axes>"
      ]
     },
     "metadata": {},
     "output_type": "display_data"
    }
   ],
   "source": [
    "%matplotlib inline\n",
    "import matplotlib.pyplot as plt\n",
    "plt.style.use('ggplot')\n",
    "sampleDF = liver_df02_t.sample(fraction = 0.1)\n",
    "bal_list = [i[0] for i in sampleDF.select(\"TP\").collect()]\n",
    "plt.title(\"Histogram of 'TP'\")\n",
    "plt.hist(bal_list, bins = 20, color = \"#00AFBB\",edgecolor='blue')\n",
    "plt.show()"
   ]
  },
  {
   "cell_type": "code",
   "execution_count": 24,
   "metadata": {},
   "outputs": [
    {
     "data": {
      "image/png": "[encoded data removed]",
      "text/plain": [
       "<Figure size 432x288 with 1 Axes>"
      ]
     },
     "metadata": {},
     "output_type": "display_data"
    }
   ],
   "source": [
    "%matplotlib inline\n",
    "import matplotlib.pyplot as plt\n",
    "plt.style.use('ggplot')\n",
    "sampleDF = liver_df02_t.sample(fraction = 0.1)\n",
    "bal_list = [i[0] for i in sampleDF.select(\"ALB\").collect()]\n",
    "plt.title(\"Histogram of 'ALB'\")\n",
    "plt.hist(bal_list, bins = 20, color = \"#00AFBB\",edgecolor='blue')\n",
    "plt.show()"
   ]
  },
  {
   "cell_type": "code",
   "execution_count": 25,
   "metadata": {},
   "outputs": [
    {
     "data": {
      "image/png": "[encoded data removed]",
      "text/plain": [
       "<Figure size 432x288 with 1 Axes>"
      ]
     },
     "metadata": {},
     "output_type": "display_data"
    }
   ],
   "source": [
    "%matplotlib inline\n",
    "import matplotlib.pyplot as plt\n",
    "plt.style.use('ggplot')\n",
    "sampleDF = liver_df02_t.sample(fraction = 0.1)\n",
    "bal_list = [i[0] for i in sampleDF.select(\"newAGRatio\").collect()]\n",
    "plt.title(\"Histogram of 'newAGRatio'\")\n",
    "plt.hist(bal_list, bins = 20, color = \"#00AFBB\",edgecolor='blue')\n",
    "plt.show()"
   ]
  },
  {
   "cell_type": "markdown",
   "metadata": {},
   "source": [
    "### BOxplots before manipulating data "
   ]
  },
  {
   "cell_type": "code",
   "execution_count": 26,
   "metadata": {},
   "outputs": [
    {
     "data": {
      "image/png": "[encoded data removed]",
      "text/plain": [
       "<Figure size 1080x1440 with 10 Axes>"
      ]
     },
     "metadata": {},
     "output_type": "display_data"
    }
   ],
   "source": [
    "#lets play woith some box plots \n",
    "import seaborn as sns\n",
    "\n",
    "#plt.figure(figsize=(12,12))\n",
    "liver02P = liver_df02_t.toPandas()\n",
    "#sns.boxplot(data=liver02P,palette='pastel')\n",
    "#sns.palplot(sns.color_palette(\"RdBu\", 10))\n",
    "##cols = liver_df02_t.select(\"Age\", \"Sgot\",\"TP\").toPandas()\n",
    "cols = [\"Age\" ,\"TB\" ,\"DB\" ,\"Alkphos\" ,\"Sgpt\" ,\"Sgot\" ,\"TP\" ,\"ALB\", \"AGRatio\", \"newAGRatio\"] \n",
    "q=1\n",
    "plt.figure(figsize=(15,20))\n",
    "#fig, axes = plt.subplots(1, len(cols))\n",
    "\n",
    "for col in cols:\n",
    "   plt.subplot(5,5,q)\n",
    "   ##ax = sns.boxplot(liver02P[col],color='red')\n",
    "   ax = sns.boxplot(y=liver02P[col],palette='pastel')\n",
    "   ax.set_ylim(liver02P[col].min(), liver02P[col].max())\n",
    "   #ax = sns.boxplot(y=liver02P[col], ax=axes.flatten()[i])\n",
    "   #ax.set_ylim( y=liver02P[col].min(), y=liver02P[col].max())\n",
    "   ax.set_ylabel('')\n",
    "   plt.xlabel(col)\n",
    "   q+=1\n",
    "plt.show()"
   ]
  },
  {
   "cell_type": "code",
   "execution_count": 27,
   "metadata": {},
   "outputs": [
    {
     "name": "stdout",
     "output_type": "stream",
     "text": [
      "No. of outliers for column [TB] > 98\n",
      "No. of outliers for column [DB] > 96\n",
      "No. of outliers for column [Alkphos] > 77\n",
      "No. of outliers for column [Sgpt] > 80\n",
      "No. of outliers for column [Sgot] > 80\n",
      "No. of outliers for column [TP] > 8\n",
      "No. of outliers for column [ALB] > 2\n",
      "No. of outliers for column [newAGRatio] > 10\n"
     ]
    }
   ],
   "source": [
    "\n",
    "numerical_columns_features = [ \"TB\",\"DB\", \"Alkphos\", \"Sgpt\",\"Sgot\",\"TP\" , \"ALB\", \"newAGRatio\"] \n",
    "for i in numerical_columns_features: \n",
    "    #liver_df02_t.describe(i).show()\n",
    "    quantiles_F = liver_df02_t.approxQuantile(i, [0.25, 0.75], 0.05)\n",
    "    #print ( str(quantiles_F) + \"...\"+i + \"...\" )\n",
    "    IQR_F = quantiles_F[1] - quantiles_F[0]\n",
    "    #print ( str(quantiles_F) + \"...\"+i + \"...IQR_F\"+  str(IQR_F))\n",
    "    bounds_F = [ quantiles_F[0] - 1.5 * IQR_F, quantiles_F[1] + 1.5 * IQR_F ]\n",
    "    #print ( str(quantiles_F) + \"...\"+i + \"...IQR_F\"+  str(IQR_F)+ \"...bounds_F[0]\"+ str(bounds_F[0])+\"..bounds_F[1]\" + str(bounds_F[1]))\n",
    "    #liver_df02_t.filter( (liver_df02_t[i] < bounds_F[0]) | (liver_df02_t[i] > bounds_F[1]) ).show()\n",
    "    no_outliers_F = liver_df02_t.filter( (liver_df02_t[i] < bounds_F[0]) | (liver_df02_t[i] > bounds_F[1]) ).count() \n",
    "    print( \"No. of outliers for column [\"+i+\"] > \" + str(no_outliers_F) ) \n",
    "\n",
    "#do not need to do scaling at the moment as the classification models are not sensitive to outliers    \n",
    "#from pyspark.ml import Pipeline\n",
    "#from pyspark.ml.feature import MinMaxScaler\n",
    "#import pyspark.ml.feature as ft\n",
    "\n",
    "#assembler =  ft.VectorAssembler(inputCols=[\"TB\"], outputCol=\"TB_vec\")\n",
    "#scaler = ft.MinMaxScaler(inputCol=\"TB_vec\", outputCol=\"TB_scaled\")\n",
    "#pipeline = Pipeline(stages=[assembler, scaler])\n",
    "#scalerModel = pipeline.fit(liver_df02_t)\n",
    "#scaledData = scalerModel.transform(liver_df02_t)\n",
    "#scaledData.show()\n"
   ]
  },
  {
   "cell_type": "code",
   "execution_count": 28,
   "metadata": {},
   "outputs": [
    {
     "name": "stdout",
     "output_type": "stream",
     "text": [
      "+-----------------+\n",
      "|     skewness(TB)|\n",
      "+-----------------+\n",
      "|4.894838524887879|\n",
      "+-----------------+\n",
      "\n",
      "+-----------------+\n",
      "|     skewness(DB)|\n",
      "+-----------------+\n",
      "|3.204131760437804|\n",
      "+-----------------+\n",
      "\n",
      "+-----------------+\n",
      "|skewness(Alkphos)|\n",
      "+-----------------+\n",
      "|3.755412227842377|\n",
      "+-----------------+\n",
      "\n",
      "+-----------------+\n",
      "|   skewness(Sgpt)|\n",
      "+-----------------+\n",
      "|6.532329464026133|\n",
      "+-----------------+\n",
      "\n",
      "+------------------+\n",
      "|    skewness(Sgot)|\n",
      "+------------------+\n",
      "|10.519023554210746|\n",
      "+------------------+\n",
      "\n",
      "+-------------------+\n",
      "|       skewness(TP)|\n",
      "+-------------------+\n",
      "|-0.2849366548744746|\n",
      "+-------------------+\n",
      "\n",
      "+--------------------+\n",
      "|       skewness(ALB)|\n",
      "+--------------------+\n",
      "|-0.04357225173558839|\n",
      "+--------------------+\n",
      "\n",
      "+--------------------+\n",
      "|skewness(newAGRatio)|\n",
      "+--------------------+\n",
      "|  0.9911933419319262|\n",
      "+--------------------+\n",
      "\n"
     ]
    }
   ],
   "source": [
    "#display skewness for interest \n",
    "for i in numerical_columns_features: \n",
    "    liver_df02_t.agg( {i: 'skewness'} ).show()"
   ]
  },
  {
   "cell_type": "code",
   "execution_count": 29,
   "metadata": {},
   "outputs": [
    {
     "name": "stdout",
     "output_type": "stream",
     "text": [
      "+-----+------+-----+\n",
      "|Class|Gender|count|\n",
      "+-----+------+-----+\n",
      "|  1.0|Female|   92|\n",
      "|  1.0|  Male|  324|\n",
      "|  0.0|Female|   50|\n",
      "|  0.0|  Male|  117|\n",
      "+-----+------+-----+\n",
      "\n",
      "+-----+------+----------+------------------+\n",
      "|Class|Gender|avg(Class)|          avg(Age)|\n",
      "+-----+------+----------+------------------+\n",
      "|  1.0|Female|       1.0| 43.34782608695652|\n",
      "|  1.0|  Male|       1.0| 46.95061728395062|\n",
      "|  0.0|Female|       0.0|             42.74|\n",
      "|  0.0|  Male|       0.0|40.598290598290596|\n",
      "+-----+------+----------+------------------+\n",
      "\n"
     ]
    }
   ],
   "source": [
    "liver_df02_t[[\"Gender\", \"Class\",\"Age\"]].groupby([\"Class\",\"Gender\"]).count().show()\n",
    "#gets the mean of age for both liver_disease and non-liver-disease \n",
    "liver_df02_t[[\"Gender\", \"Class\",\"Age\"]].groupby([\"Class\",\"Gender\"]).mean().show()\n",
    "#this tells us that the age has something to do with both groups"
   ]
  },
  {
   "cell_type": "code",
   "execution_count": 30,
   "metadata": {},
   "outputs": [
    {
     "name": "stdout",
     "output_type": "stream",
     "text": [
      "╒════════════╤═══════╤══════╤══════╤═══════════╤════════╤════════╤═══════╤═══════╤══════════════╕\n",
      "│            │  Age  │  TB  │  DB  │  Alkphos  │  Sgpt  │  Sgot  │  TP   │  ALB  │  newAGRatio  │\n",
      "╞════════════╪═══════╪══════╪══════╪═══════════╪════════╪════════╪═══════╪═══════╪══════════════╡\n",
      "│ Age        │   1   │ 0.01 │ 0.01 │   0.08    │ -0.09  │ -0.02  │ -0.19 │ -0.27 │    -0.22     │\n",
      "├────────────┼───────┼──────┼──────┼───────────┼────────┼────────┼───────┼───────┼──────────────┤\n",
      "│ TB         │       │  1   │ 0.87 │   0.21    │  0.21  │  0.24  │ -0.01 │ -0.22 │    -0.21     │\n",
      "├────────────┼───────┼──────┼──────┼───────────┼────────┼────────┼───────┼───────┼──────────────┤\n",
      "│ DB         │       │      │  1   │   0.23    │  0.23  │  0.26  │  -0   │ -0.23 │     -0.2     │\n",
      "├────────────┼───────┼──────┼──────┼───────────┼────────┼────────┼───────┼───────┼──────────────┤\n",
      "│ Alkphos    │       │      │      │     1     │  0.13  │  0.17  │ -0.03 │ -0.17 │    -0.23     │\n",
      "├────────────┼───────┼──────┼──────┼───────────┼────────┼────────┼───────┼───────┼──────────────┤\n",
      "│ Sgpt       │       │      │      │           │   1    │  0.79  │ -0.04 │ -0.03 │      -0      │\n",
      "├────────────┼───────┼──────┼──────┼───────────┼────────┼────────┼───────┼───────┼──────────────┤\n",
      "│ Sgot       │       │      │      │           │        │   1    │ -0.03 │ -0.09 │    -0.07     │\n",
      "├────────────┼───────┼──────┼──────┼───────────┼────────┼────────┼───────┼───────┼──────────────┤\n",
      "│ TP         │       │      │      │           │        │        │   1   │ 0.78  │     0.23     │\n",
      "├────────────┼───────┼──────┼──────┼───────────┼────────┼────────┼───────┼───────┼──────────────┤\n",
      "│ ALB        │       │      │      │           │        │        │       │   1   │     0.69     │\n",
      "├────────────┼───────┼──────┼──────┼───────────┼────────┼────────┼───────┼───────┼──────────────┤\n",
      "│ newAGRatio │       │      │      │           │        │        │       │       │      1       │\n",
      "╘════════════╧═══════╧══════╧══════╧═══════════╧════════╧════════╧═══════╧═══════╧══════════════╛\n"
     ]
    }
   ],
   "source": [
    "#let's do a correlation across all the features\n",
    "numerical = [ \"Age\", \"TB\",\"DB\", \"Alkphos\", \"Sgpt\",\"Sgot\",\"TP\" , \"ALB\", \"newAGRatio\"] \n",
    "n_numerical = len(numerical)\n",
    "corr = []\n",
    "\n",
    "for i in range(0, n_numerical):\n",
    "    temp = [None] * i\n",
    "    for j in range(i, n_numerical):\n",
    "        corXY = round( liver_df02_t.corr(numerical[i], numerical[j]) ,2 )\n",
    "        temp.append( corXY )\n",
    "    corr.append(temp)\n",
    "\n",
    "# print the correlation matrix in a nicely formatted table\n",
    "from tabulate import tabulate\n",
    "print(tabulate(corr, headers=numerical, showindex=numerical, tablefmt=\"fancy_grid\", numalign=\"center\"))"
   ]
  },
  {
   "cell_type": "code",
   "execution_count": 31,
   "metadata": {},
   "outputs": [
    {
     "data": {
      "text/plain": [
       "<matplotlib.axes._subplots.AxesSubplot at 0x7f97b4572050>"
      ]
     },
     "execution_count": 31,
     "metadata": {},
     "output_type": "execute_result"
    },
    {
     "data": {
      "image/png": "[encoded data removed]",
      "text/plain": [
       "<Figure size 864x864 with 2 Axes>"
      ]
     },
     "metadata": {
      "needs_background": "light"
     },
     "output_type": "display_data"
    }
   ],
   "source": [
    "from pyspark.ml.stat import Correlation\n",
    "%matplotlib inline\n",
    "import matplotlib.pyplot as plt\n",
    "import pyspark.ml.feature as ft\n",
    "import seaborn as sns\n",
    "\n",
    "\n",
    "plt.figure(figsize=(12,12))\n",
    "\n",
    "myGraph = liver_df02_t\n",
    "vector_col = \"corr_features\"\n",
    "assembler = ft.VectorAssembler(inputCols=['Age' ,'TB', 'DB','Alkphos', 'Sgot', 'TP' ,'ALB','newAGRatio'], \n",
    "                            outputCol=vector_col)\n",
    "myGraph_vector = assembler.transform(myGraph).select(vector_col)\n",
    "#matrix = Correlation.corr(myGraph_vector, vector_col)\n",
    "\n",
    "matrix = Correlation.corr(myGraph_vector, vector_col).collect()[0][0]\n",
    "corrmatrix = matrix.toArray().tolist()\n",
    "#print(corrmatrix)\n",
    "x_axis_labels = ['Age' ,'TB', 'DB','Alkphos', 'Sgot', 'TP' ,'ALB','newAGRatio'] # labels for x-axis\n",
    "y_axis_labels = ['Age' ,'TB', 'DB','Alkphos', 'Sgot', 'TP' ,'ALB','newAGRatio'] # labels for y-axis\n",
    "\n",
    "# create seabvorn heatmap with required labels\n",
    "sns.heatmap(corrmatrix, xticklabels=x_axis_labels, yticklabels=y_axis_labels, cbar = True,  square = True, annot=True, fmt= '.2f',annot_kws={'size': 8},\n",
    "           cmap= 'coolwarm')\n",
    "\n",
    "\n",
    "#sns.heatmap(corrmatrix, xticklabels=False, yticklabels=False)\n",
    "#sns.heatmap(corrmatrix, cbar = True,  square = True, annot=True, fmt= '.2f',annot_kws={'size': 8},\n",
    "#           cmap= 'coolwarm')"
   ]
  },
  {
   "cell_type": "markdown",
   "metadata": {},
   "source": [
    "### END of Exploration"
   ]
  },
  {
   "cell_type": "markdown",
   "metadata": {},
   "source": [
    "## Let's try a decision tree first with all features\n",
    "## DECISION TREE I"
   ]
  },
  {
   "cell_type": "code",
   "execution_count": 32,
   "metadata": {
    "scrolled": true
   },
   "outputs": [
    {
     "name": "stdout",
     "output_type": "stream",
     "text": [
      "+----+----+---+-------+----+-----+---+---+-----+----------+\n",
      "| Age|  TB| DB|Alkphos|Sgpt| Sgot| TP|ALB|Class|newAGRatio|\n",
      "+----+----+---+-------+----+-----+---+---+-----+----------+\n",
      "|65.0| 0.7|0.1|  187.0|16.0| 18.0|6.8|3.3|  1.0|       0.9|\n",
      "|62.0|10.9|5.5|  699.0|64.0|100.0|7.5|3.2|  1.0|      0.74|\n",
      "|62.0| 7.3|4.1|  490.0|60.0| 68.0|7.0|3.3|  1.0|      0.89|\n",
      "|58.0| 1.0|0.4|  182.0|14.0| 20.0|6.8|3.4|  1.0|       1.0|\n",
      "|72.0| 3.9|2.0|  195.0|27.0| 59.0|7.3|2.4|  1.0|       0.4|\n",
      "+----+----+---+-------+----+-----+---+---+-----+----------+\n",
      "only showing top 5 rows\n",
      "\n",
      "null|empty|nana in [Age]  count = 0\n",
      "null|empty|nana in [TB]  count = 0\n",
      "null|empty|nana in [DB]  count = 0\n",
      "null|empty|nana in [Alkphos]  count = 0\n",
      "null|empty|nana in [Sgpt]  count = 0\n",
      "null|empty|nana in [Sgot]  count = 0\n",
      "null|empty|nana in [TP]  count = 0\n",
      "null|empty|nana in [ALB]  count = 0\n",
      "null|empty|nana in [Class]  count = 0\n",
      "null|empty|nana in [newAGRatio]  count = 0\n"
     ]
    },
    {
     "data": {
      "text/plain": [
       "DataFrame[Age: double, TB: double, DB: double, Alkphos: double, Sgpt: double, Sgot: double, TP: double, ALB: double, Class: double, newAGRatio: double]"
      ]
     },
     "execution_count": 32,
     "metadata": {},
     "output_type": "execute_result"
    }
   ],
   "source": [
    "#drop gender and do the decision tree \n",
    "liver_df03_noGender = liver_df02_t.drop(\"Gender\").drop(\"new_id\").drop(\"AGRatio\")\n",
    "liver_df03_noGender.show(5)\n",
    "\n",
    "\n",
    "for i in liver_df03_noGender.columns: \n",
    "    count = liver_df03_noGender.filter( (liver_df03_noGender[i] == \"\") | liver_df03_noGender[i].isNull() | isnan(liver_df03_noGender[i])).count()\n",
    "    print(\"null|empty|nana in [\"+i+\"]  count = \"+str(count)) \n",
    "\n",
    "#dt_training_data, dt_test_data = liver_df03_noGender.randomSplit([0.7, 0.3], seed=1)\n",
    "#dt_training_data.persist()\n",
    "\n",
    "training_data, testing_data = liver_df03_noGender.randomSplit([0.7, 0.3], seed=1)\n",
    "training_data.persist()\n",
    "testing_data.persist() "
   ]
  },
  {
   "cell_type": "code",
   "execution_count": 33,
   "metadata": {},
   "outputs": [],
   "source": [
    "import pyspark.ml.feature as ft"
   ]
  },
  {
   "cell_type": "code",
   "execution_count": 34,
   "metadata": {},
   "outputs": [],
   "source": [
    "input_cols = [e for e in liver_df03_noGender.columns if e != 'Class']\n",
    "#print (type(input_cols))\n",
    "featuresCreator = ft.VectorAssembler(inputCols=input_cols, outputCol=\"features\")\n",
    "\n"
   ]
  },
  {
   "cell_type": "code",
   "execution_count": 35,
   "metadata": {},
   "outputs": [],
   "source": [
    "import pyspark.ml.classification as cl\n",
    "dt = cl.DecisionTreeClassifier(labelCol=\"Class\",impurity=\"entropy\") "
   ]
  },
  {
   "cell_type": "code",
   "execution_count": 36,
   "metadata": {},
   "outputs": [],
   "source": [
    "from pyspark.ml import Pipeline\n",
    "pipeline_dt = Pipeline( stages = [featuresCreator, dt] )\n",
    "#model_dt = pipeline_dt.fit(dt_training_data)\n",
    "model_dt = pipeline_dt.fit(training_data)\n",
    "\n"
   ]
  },
  {
   "cell_type": "code",
   "execution_count": 37,
   "metadata": {},
   "outputs": [
    {
     "name": "stdout",
     "output_type": "stream",
     "text": [
      "['Age', 'TB', 'DB', 'Alkphos', 'Sgpt', 'Sgot', 'TP', 'ALB', 'Class', 'newAGRatio', 'features', 'rawPrediction', 'probability', 'prediction']\n",
      "+-----+-------------+---------------------------------------+----------+\n",
      "|Class|rawPrediction|probability                            |prediction|\n",
      "+-----+-------------+---------------------------------------+----------+\n",
      "|1.0  |[0.0,37.0]   |[0.0,1.0]                              |1.0       |\n",
      "|0.0  |[20.0,54.0]  |[0.2702702702702703,0.7297297297297297]|1.0       |\n",
      "|1.0  |[20.0,54.0]  |[0.2702702702702703,0.7297297297297297]|1.0       |\n",
      "|1.0  |[1.0,0.0]    |[1.0,0.0]                              |0.0       |\n",
      "|0.0  |[85.0,98.0]  |[0.4644808743169399,0.5355191256830601]|1.0       |\n",
      "|0.0  |[85.0,98.0]  |[0.4644808743169399,0.5355191256830601]|1.0       |\n",
      "|0.0  |[85.0,98.0]  |[0.4644808743169399,0.5355191256830601]|1.0       |\n",
      "|1.0  |[20.0,54.0]  |[0.2702702702702703,0.7297297297297297]|1.0       |\n",
      "|1.0  |[1.0,24.0]   |[0.04,0.96]                            |1.0       |\n",
      "|0.0  |[85.0,98.0]  |[0.4644808743169399,0.5355191256830601]|1.0       |\n",
      "|0.0  |[85.0,98.0]  |[0.4644808743169399,0.5355191256830601]|1.0       |\n",
      "|1.0  |[0.0,37.0]   |[0.0,1.0]                              |1.0       |\n",
      "|0.0  |[85.0,98.0]  |[0.4644808743169399,0.5355191256830601]|1.0       |\n",
      "|0.0  |[85.0,98.0]  |[0.4644808743169399,0.5355191256830601]|1.0       |\n",
      "|1.0  |[5.0,0.0]    |[1.0,0.0]                              |0.0       |\n",
      "|0.0  |[85.0,98.0]  |[0.4644808743169399,0.5355191256830601]|1.0       |\n",
      "|1.0  |[0.0,37.0]   |[0.0,1.0]                              |1.0       |\n",
      "|0.0  |[85.0,98.0]  |[0.4644808743169399,0.5355191256830601]|1.0       |\n",
      "|1.0  |[20.0,54.0]  |[0.2702702702702703,0.7297297297297297]|1.0       |\n",
      "|0.0  |[20.0,54.0]  |[0.2702702702702703,0.7297297297297297]|1.0       |\n",
      "+-----+-------------+---------------------------------------+----------+\n",
      "only showing top 20 rows\n",
      "\n"
     ]
    }
   ],
   "source": [
    "predictions_dt = model_dt.transform(testing_data)\n",
    "type(predictions_dt)\n",
    "print (predictions_dt.columns)\n",
    "predictions_dt.select(\"Class\", \"rawPrediction\", \"probability\", \"prediction\").show(truncate=False)"
   ]
  },
  {
   "cell_type": "code",
   "execution_count": 38,
   "metadata": {},
   "outputs": [
    {
     "name": "stdout",
     "output_type": "stream",
     "text": [
      "entropy\n",
      "0.7033585370142429\n"
     ]
    }
   ],
   "source": [
    "import pyspark.ml.evaluation as ev\n",
    "#evaluator_dt = ev.MulticlassClassificationEvaluator(predictionCol=\"prediction\", labelCol=\"Class\", metricName=\"accuracy\")\n",
    "\n",
    "evaluator_dt = ev.BinaryClassificationEvaluator(rawPredictionCol=\"probability\", labelCol=\"Class\")\n",
    "#evaluator_LR = ev.BinaryClassificationEvaluator(rawPredictionCol=\"probability\", labelCol=\"Class\")\n",
    "\n",
    "accuracy_dt = evaluator_dt.evaluate(predictions_dt)\n",
    "print( dt.getImpurity()) \n",
    "print(accuracy_dt)"
   ]
  },
  {
   "cell_type": "code",
   "execution_count": 39,
   "metadata": {},
   "outputs": [
    {
     "name": "stdout",
     "output_type": "stream",
     "text": [
      "gini\n",
      "0.6972041498153684\n"
     ]
    }
   ],
   "source": [
    "#let's try to do on impurity = gini for decision tree \n",
    "import pyspark.ml.evaluation as ev\n",
    "input_cols = [e for e in liver_df03_noGender.columns if e != 'Class']\n",
    "#print (type(input_cols))\n",
    "featuresCreator_gini = ft.VectorAssembler(inputCols=input_cols, outputCol=\"features\")\n",
    "\n",
    "dt_gini = cl.DecisionTreeClassifier(labelCol=\"Class\",impurity=\"gini\") \n",
    "pipeline_gini = Pipeline( stages = [featuresCreator_gini, dt_gini] )\n",
    "\n",
    "#training_data, testing_data\n",
    "model_gini = pipeline_gini.fit(training_data)\n",
    "predictions_gini = model_gini.transform(testing_data)\n",
    "\n",
    "#evaluator_gini = ev.MulticlassClassificationEvaluator(predictionCol=\"prediction\", labelCol=\"Class\", metricName=\"accuracy\")\n",
    "evaluator_gini = ev.BinaryClassificationEvaluator(rawPredictionCol=\"probability\", labelCol=\"Class\")\n",
    "\n",
    "accuracy_gini = evaluator_gini.evaluate(predictions_gini)\n",
    "print( dt_gini.getImpurity()) \n",
    "print(accuracy_gini)"
   ]
  },
  {
   "cell_type": "code",
   "execution_count": 40,
   "metadata": {},
   "outputs": [
    {
     "name": "stdout",
     "output_type": "stream",
     "text": [
      "DecisionTreeClassificationModel (uid=DecisionTreeClassifier_7e8a73afef39) of depth 5 with 29 nodes\n",
      "  If (DB <= 0.8500000000000001)\n",
      "   If (Sgpt <= 64.5)\n",
      "    If (Age <= 72.5)\n",
      "     If (Sgot <= 106.5)\n",
      "      Predict: 1.0\n",
      "     Else (Sgot > 106.5)\n",
      "      Predict: 0.0\n",
      "    Else (Age > 72.5)\n",
      "     Predict: 1.0\n",
      "   Else (Sgpt > 64.5)\n",
      "    If (TP <= 7.95)\n",
      "     If (Age <= 13.5)\n",
      "      If (TB <= 0.8500000000000001)\n",
      "       Predict: 0.0\n",
      "      Else (TB > 0.8500000000000001)\n",
      "       Predict: 1.0\n",
      "     Else (Age > 13.5)\n",
      "      Predict: 1.0\n",
      "    Else (TP > 7.95)\n",
      "     If (Age <= 40.5)\n",
      "      Predict: 0.0\n",
      "     Else (Age > 40.5)\n",
      "      Predict: 1.0\n",
      "  Else (DB > 0.8500000000000001)\n",
      "   If (Sgpt <= 12.5)\n",
      "    Predict: 0.0\n",
      "   Else (Sgpt > 12.5)\n",
      "    If (Age <= 38.5)\n",
      "     If (Age <= 34.5)\n",
      "      Predict: 1.0\n",
      "     Else (Age > 34.5)\n",
      "      If (Sgot <= 153.5)\n",
      "       Predict: 0.0\n",
      "      Else (Sgot > 153.5)\n",
      "       Predict: 1.0\n",
      "    Else (Age > 38.5)\n",
      "     If (Alkphos <= 613.0)\n",
      "      Predict: 1.0\n",
      "     Else (Alkphos > 613.0)\n",
      "      If (Age <= 42.5)\n",
      "       Predict: 0.0\n",
      "      Else (Age > 42.5)\n",
      "       Predict: 1.0\n",
      "\n"
     ]
    }
   ],
   "source": [
    "#sample output\n",
    "dtree_gini = model_gini.stages[1]\n",
    "#print(dtree.toDebugString)\n",
    "\n",
    "\n",
    "input_cols = ['Age', 'TB', 'DB', 'Alkphos', 'Sgpt', 'Sgot', 'TP', 'ALB', 'Class', 'newAGRatio' ] \n",
    "string = dtree_gini.toDebugString\n",
    "for i, feat in enumerate(input_cols):\n",
    "    string = string.replace('feature ' + str(i), feat)\n",
    "print(string)\n"
   ]
  },
  {
   "cell_type": "markdown",
   "metadata": {},
   "source": [
    "#### It seems it does not matter if we use gini or entropy for decision tree\n",
    "#### Both of them gives an accuracy around 70%\n",
    "#### Now, try dropping the high correlations and do again\n"
   ]
  },
  {
   "cell_type": "markdown",
   "metadata": {},
   "source": [
    "### END DECISION TREE I"
   ]
  },
  {
   "cell_type": "markdown",
   "metadata": {},
   "source": [
    "### START DECISION TREE 2 TUNE"
   ]
  },
  {
   "cell_type": "code",
   "execution_count": 41,
   "metadata": {},
   "outputs": [
    {
     "name": "stdout",
     "output_type": "stream",
     "text": [
      "+----+----+---+-------+----+-----+---+---+-----+----------+\n",
      "| Age|  TB| DB|Alkphos|Sgpt| Sgot| TP|ALB|Class|newAGRatio|\n",
      "+----+----+---+-------+----+-----+---+---+-----+----------+\n",
      "|65.0| 0.7|0.1|  187.0|16.0| 18.0|6.8|3.3|  1.0|       0.9|\n",
      "|62.0|10.9|5.5|  699.0|64.0|100.0|7.5|3.2|  1.0|      0.74|\n",
      "|62.0| 7.3|4.1|  490.0|60.0| 68.0|7.0|3.3|  1.0|      0.89|\n",
      "|58.0| 1.0|0.4|  182.0|14.0| 20.0|6.8|3.4|  1.0|       1.0|\n",
      "|72.0| 3.9|2.0|  195.0|27.0| 59.0|7.3|2.4|  1.0|       0.4|\n",
      "+----+----+---+-------+----+-----+---+---+-----+----------+\n",
      "only showing top 5 rows\n",
      "\n"
     ]
    }
   ],
   "source": [
    "liver_df03_noGender.show(5)"
   ]
  },
  {
   "cell_type": "markdown",
   "metadata": {},
   "source": [
    "### Choose to drop AGRatio, TP, newAGRatio , TB in view of the high coorelations between the feature except for sgot, sgpt \n",
    "### Check through the correlations again"
   ]
  },
  {
   "cell_type": "code",
   "execution_count": 42,
   "metadata": {},
   "outputs": [
    {
     "data": {
      "text/plain": [
       "['Age', 'DB', 'Alkphos', 'Sgpt', 'Sgot', 'ALB', 'Class']"
      ]
     },
     "execution_count": 42,
     "metadata": {},
     "output_type": "execute_result"
    }
   ],
   "source": [
    "liver_df04_noGender = liver_df02_t.drop(\"Gender\").drop(\"new_id\").drop(\"AGRatio\").drop (\"TP\").drop(\"newAGRatio\").drop(\"TB\")\n",
    "liver_df04_noGender.columns"
   ]
  },
  {
   "cell_type": "code",
   "execution_count": 43,
   "metadata": {},
   "outputs": [
    {
     "data": {
      "text/plain": [
       "<matplotlib.axes._subplots.AxesSubplot at 0x7f97b448bdd0>"
      ]
     },
     "execution_count": 43,
     "metadata": {},
     "output_type": "execute_result"
    },
    {
     "data": {
      "image/png": "[encoded data removed]",
      "text/plain": [
       "<Figure size 864x864 with 2 Axes>"
      ]
     },
     "metadata": {
      "needs_background": "light"
     },
     "output_type": "display_data"
    }
   ],
   "source": [
    "from pyspark.ml.stat import Correlation\n",
    "plt.figure(figsize=(12,12))\n",
    "\n",
    "myGraph = liver_df04_noGender\n",
    "vector_col = \"corr_features\"\n",
    "assembler = ft.VectorAssembler(inputCols=['Age', 'DB', 'Alkphos', 'Sgpt', 'Sgot', 'ALB'], \n",
    "                            outputCol=vector_col)\n",
    "myGraph_vector = assembler.transform(myGraph).select(vector_col)\n",
    "matrix = Correlation.corr(myGraph_vector, vector_col).collect()[0][0]\n",
    "corrmatrix = matrix.toArray().tolist()\n",
    "#print(corrmatrix)\n",
    "x_axis_labels = ['Age', 'DB', 'Alkphos', 'Sgpt', 'Sgot', 'ALB'] # labels for x-axis\n",
    "y_axis_labels = ['Age', 'DB', 'Alkphos', 'Sgpt', 'Sgot', 'ALB'] # labels for y-axis\n",
    "\n",
    "# create seabvorn heatmap with required labels\n",
    "sns.heatmap(corrmatrix, xticklabels=x_axis_labels, yticklabels=y_axis_labels, cbar = True,  square = True, annot=True, fmt= '.2f',annot_kws={'size': 8},\n",
    "           cmap= 'coolwarm')"
   ]
  },
  {
   "cell_type": "code",
   "execution_count": 44,
   "metadata": {},
   "outputs": [
    {
     "data": {
      "image/png": "[encoded data removed]",
      "text/plain": [
       "<Figure size 1080x1080 with 27 Axes>"
      ]
     },
     "metadata": {
      "needs_background": "light"
     },
     "output_type": "display_data"
    }
   ],
   "source": [
    "import seaborn as sns\n",
    "df = liver_df04_noGender.toPandas()\n",
    "import matplotlib.pyplot as plt\n",
    "import numpy as np\n",
    "\n",
    "\n",
    "# Basic correlogram\n",
    "sns.pairplot(df,corner=True,vars=[ \"Age\",\"DB\", \"Alkphos\", \"Sgpt\",\"Sgot\",\"ALB\"]  )\n",
    "plt.show()\n"
   ]
  },
  {
   "cell_type": "code",
   "execution_count": 45,
   "metadata": {},
   "outputs": [
    {
     "name": "stdout",
     "output_type": "stream",
     "text": [
      "entropy\n",
      "Accuracy for DT [selected features][entropy] 0.6934051398337112\n"
     ]
    }
   ],
   "source": [
    "#dt_training_data_02, dt_test_data_02 = liver_df04_noGender.randomSplit([0.7, 0.3], seed=1)\n",
    "#dt_training_data_02.persist()\n",
    "\n",
    "training_data02, testing_data02 = liver_df04_noGender.randomSplit([0.7, 0.3], seed=1)\n",
    "training_data02.persist()\n",
    "testing_data02.persist() \n",
    "\n",
    "\n",
    "input_cols_02 = [e for e in liver_df04_noGender.columns if e != 'Class']\n",
    "#print (type(input_cols))\n",
    "featuresCreator_entropy_02 = ft.VectorAssembler(inputCols=input_cols_02, outputCol=\"features\")\n",
    "\n",
    "\n",
    "\n",
    "dt_entropy_02 = cl.DecisionTreeClassifier(labelCol=\"Class\",impurity=\"entropy\") \n",
    "pipeline_entropy_02 = Pipeline( stages = [featuresCreator_entropy_02, dt_entropy_02] )\n",
    "\n",
    "model_entropy_02 = pipeline_entropy_02.fit(training_data02)\n",
    "predictions_entropy_02 = model_entropy_02.transform(testing_data02)\n",
    "\n",
    "#evaluator_entropy_02 = ev.MulticlassClassificationEvaluator(predictionCol=\"prediction\", labelCol=\"Class\", metricName=\"accuracy\")\n",
    "evaluator_entropy_02 = ev.BinaryClassificationEvaluator(rawPredictionCol=\"probability\", labelCol=\"Class\")\n",
    "\n",
    "\n",
    "accuracy_entropy_02 = evaluator_entropy_02.evaluate(predictions_entropy_02)\n",
    "print( dt_entropy_02.getImpurity()) \n",
    "print( \"Accuracy for DT [selected features][\"+ str( dt_entropy_02.getImpurity()) +\"] \"+ str(accuracy_entropy_02))"
   ]
  },
  {
   "cell_type": "code",
   "execution_count": 46,
   "metadata": {},
   "outputs": [
    {
     "name": "stdout",
     "output_type": "stream",
     "text": [
      "DecisionTreeClassificationModel (uid=DecisionTreeClassifier_f6d9640c1209) of depth 5 with 27 nodes\n",
      "  If (feature 1 <= 1.15)\n",
      "   If (feature 3 <= 68.0)\n",
      "    If (feature 0 <= 72.5)\n",
      "     If (feature 2 <= 616.5)\n",
      "      If (feature 4 <= 97.5)\n",
      "       Predict: 1.0\n",
      "      Else (feature 4 > 97.5)\n",
      "       Predict: 0.0\n",
      "     Else (feature 2 > 616.5)\n",
      "      Predict: 1.0\n",
      "    Else (feature 0 > 72.5)\n",
      "     Predict: 1.0\n",
      "   Else (feature 3 > 68.0)\n",
      "    If (feature 0 <= 40.5)\n",
      "     If (feature 1 <= 0.75)\n",
      "      Predict: 1.0\n",
      "     Else (feature 1 > 0.75)\n",
      "      If (feature 3 <= 141.0)\n",
      "       Predict: 0.0\n",
      "      Else (feature 3 > 141.0)\n",
      "       Predict: 1.0\n",
      "    Else (feature 0 > 40.5)\n",
      "     Predict: 1.0\n",
      "  Else (feature 1 > 1.15)\n",
      "   If (feature 0 <= 42.5)\n",
      "    If (feature 3 <= 32.5)\n",
      "     If (feature 2 <= 175.5)\n",
      "      Predict: 0.0\n",
      "     Else (feature 2 > 175.5)\n",
      "      If (feature 2 <= 306.5)\n",
      "       Predict: 1.0\n",
      "      Else (feature 2 > 306.5)\n",
      "       Predict: 0.0\n",
      "    Else (feature 3 > 32.5)\n",
      "     If (feature 1 <= 1.25)\n",
      "      Predict: 0.0\n",
      "     Else (feature 1 > 1.25)\n",
      "      Predict: 1.0\n",
      "   Else (feature 0 > 42.5)\n",
      "    Predict: 1.0\n",
      "\n"
     ]
    }
   ],
   "source": [
    "dtree_entropy_02 = model_entropy_02.stages[1]\n",
    "print(dtree_entropy_02.toDebugString)"
   ]
  },
  {
   "cell_type": "code",
   "execution_count": 47,
   "metadata": {},
   "outputs": [
    {
     "name": "stdout",
     "output_type": "stream",
     "text": [
      "Accuracy for DT [Full features][gini] 0.6548563869992442\n"
     ]
    }
   ],
   "source": [
    "input_cols_03 = [e for e in liver_df04_noGender.columns if e != 'Class']\n",
    "#print (type(input_cols))\n",
    "featuresCreator_gini_03 = ft.VectorAssembler(inputCols=input_cols_03, outputCol=\"features\")\n",
    "\n",
    "\n",
    "\n",
    "dt_gini_03 = cl.DecisionTreeClassifier(labelCol=\"Class\",impurity=\"gini\") \n",
    "pipeline_gini_03 = Pipeline( stages = [featuresCreator_gini_03, dt_gini_03] )\n",
    "\n",
    "model_gini_03 = pipeline_gini_03.fit(training_data02)\n",
    "predictions_gini_03 = model_gini_03.transform(testing_data02)\n",
    "\n",
    "#predictions_gini_03.show()\n",
    "#evaluator_gini_03 = ev.MulticlassClassificationEvaluator(predictionCol=\"prediction\", labelCol=\"Class\", metricName=\"accuracy\")\n",
    "evaluator_gini_03 = ev.BinaryClassificationEvaluator(rawPredictionCol=\"probability\", labelCol=\"Class\")\n",
    "\n",
    "\n",
    "accuracy_gini_03 = evaluator_gini_03.evaluate(predictions_gini_03)\n",
    "#print( dt_gini_03.getImpurity()) \n",
    "#print(accuracy_gini_03)\n",
    "print( \"Accuracy for DT [Full features][\"+ str( dt_gini_03.getImpurity()) +\"] \"+ str(accuracy_gini_03))\n",
    "#print( \"Accuracy for DT [Full features][gini] \"+ str(accuracy_gini_03))"
   ]
  },
  {
   "cell_type": "markdown",
   "metadata": {},
   "source": [
    "### We now see that only these features seem not improve accuracy. However, there is only a minor improvement of 0.01% even using the full set of features (and entropy).\n",
    "### Opt to use select Features \n",
    "\n",
    "### Features selected : Age, DB, Alkphos, Sgpt, Sgot , ALB"
   ]
  },
  {
   "cell_type": "code",
   "execution_count": 48,
   "metadata": {},
   "outputs": [
    {
     "name": "stdout",
     "output_type": "stream",
     "text": [
      "pie chart of true positive, false positive , false_negative, true_negative for DECISION TREE \n"
     ]
    },
    {
     "data": {
      "text/plain": [
       "(-1.1212927520473934,\n",
       " 1.2056110360616514,\n",
       " -1.208812770314997,\n",
       " 1.1238061085296598)"
      ]
     },
     "execution_count": 48,
     "metadata": {},
     "output_type": "execute_result"
    },
    {
     "data": {
      "image/png": "[encoded data removed]",
      "text/plain": [
       "<Figure size 432x288 with 1 Axes>"
      ]
     },
     "metadata": {},
     "output_type": "display_data"
    }
   ],
   "source": [
    "##here's a friendly picture \n",
    "print (\"pie chart of true positive, false positive , false_negative, true_negative for DECISION TREE \")\n",
    "\n",
    "true_positive = predictions_entropy_02.where(\"prediction = 1 AND Class = 1\").count()\n",
    "false_positive = predictions_entropy_02.where(\"prediction = 1 AND Class = 0\").count()\n",
    "false_negative = predictions_entropy_02.where(\"prediction = 0 AND Class = 1\").count()\n",
    "true_negative = predictions_entropy_02.where(\"prediction = 0 AND Class = 0\").count()\n",
    "\n",
    "#print(true_positive)\n",
    "#print(false_positive)\n",
    "#print(false_negative)\n",
    "#print(true_negative)\n",
    "\n",
    "\n",
    "%matplotlib inline\n",
    "import matplotlib.pyplot as plt\n",
    "labels = ['True positive', 'False positive', 'True negative', 'False negative']\n",
    "sizes = [ true_positive , false_positive ,false_negative , true_negative ]\n",
    "#colors = ['turquoise', 'seagreen', 'mediumslateblue', 'palegreen', 'coral']\n",
    "colors = ['gold', 'red', 'palegreen', 'turquoise' ]\n",
    "explode =(0,0.1,0,0.1) \n",
    "plt.title(\"Pie Chart for Decision Tree [Entropy, Selected Features][entropy]\", fontsize = 12) \n",
    "plt.pie(sizes, labels=labels, autopct='%1.1f%%', colors=colors,explode=explode,shadow = True)\n",
    "plt.axis('equal')"
   ]
  },
  {
   "cell_type": "markdown",
   "metadata": {},
   "source": [
    "### END DECISION TREE I TUNING I"
   ]
  },
  {
   "cell_type": "markdown",
   "metadata": {},
   "source": [
    "### STOP DECISION TREE"
   ]
  },
  {
   "cell_type": "code",
   "execution_count": 49,
   "metadata": {},
   "outputs": [
    {
     "name": "stdout",
     "output_type": "stream",
     "text": [
      "CrossValidatorModel_a9f55ed605a3\n",
      "Accuracy: 0.6880196523053665\n",
      "AUC: 0.6677018633540373\n"
     ]
    }
   ],
   "source": [
    "#Optional - try and see if possible to tune maxbins and maxdepths for DT with selected features\n",
    "from pyspark.ml.classification import DecisionTreeClassifier\n",
    "from pyspark.ml.tuning import ParamGridBuilder, CrossValidator\n",
    "from pyspark.ml.evaluation import BinaryClassificationEvaluator\n",
    "from pyspark.mllib.evaluation import BinaryClassificationMetrics\n",
    "#from mmlspark import ComputeModelStatistics\n",
    "##TOME\n",
    "\n",
    "##START###\n",
    "input_cols_03 = [e for e in liver_df04_noGender.columns if e != 'Class']\n",
    "#print (type(input_cols))\n",
    "featuresCreator_entropyTune = ft.VectorAssembler(inputCols=input_cols_03, outputCol=\"features\")\n",
    "\n",
    "\n",
    "\n",
    "dt_entropyTune = cl.DecisionTreeClassifier(labelCol=\"Class\",impurity=\"entropy\") \n",
    "pipeline_entropyTune = Pipeline( stages = [featuresCreator_entropyTune, dt_entropyTune] )\n",
    "\n",
    "# Create ParamGrid for Cross Validation\n",
    "dtparamGrid = (ParamGridBuilder()\n",
    "             .addGrid(dt_entropyTune.maxDepth, [2, 5, 10, 20, 30])\n",
    "             .addGrid(dt_entropyTune.maxBins, [10, 20, 40, 80, 100])\n",
    "             .build())\n",
    "\n",
    "# Evaluate model\n",
    "#dtevaluator = ev.BinaryClassificationEvaluator(rawPredictionCol=\"rawPrediction\")\n",
    "dtevaluator = ev.BinaryClassificationEvaluator(rawPredictionCol=\"probability\", labelCol=\"Class\")\n",
    "\n",
    "\n",
    "# Create 5-fold CrossValidator\n",
    "dtcv = CrossValidator(estimator = pipeline_entropyTune,\n",
    "                      estimatorParamMaps = dtparamGrid,\n",
    "                      evaluator = dtevaluator,\n",
    "                      numFolds = 5)\n",
    "\n",
    "\n",
    "\n",
    "\n",
    "#training_data02, testing_data02 \n",
    "# Run cross validations\n",
    "dtcvModel = dtcv.fit(training_data02)\n",
    "print(dtcvModel)\n",
    "\n",
    "# Use test set here so we can measure the accuracy of our model on new data\n",
    "dtpredictions = dtcvModel.transform(testing_data02)\n",
    "\n",
    "# cvModel uses the best model found from the Cross Validation\n",
    "# Evaluate best model\n",
    "print('Accuracy:', dtevaluator.evaluate(dtpredictions))\n",
    "print('AUC:', BinaryClassificationMetrics(dtpredictions['Class','prediction'].rdd).areaUnderROC)\n",
    "#ComputeModelStatistics().transform(dtpredictions)\n",
    "\n",
    "#dtcvModel.getEvaluator().extractParamMap()\n",
    "\n",
    "\n"
   ]
  },
  {
   "cell_type": "code",
   "execution_count": null,
   "metadata": {},
   "outputs": [],
   "source": []
  },
  {
   "cell_type": "code",
   "execution_count": null,
   "metadata": {},
   "outputs": [],
   "source": []
  },
  {
   "cell_type": "code",
   "execution_count": 50,
   "metadata": {},
   "outputs": [],
   "source": [
    "#Let's try LR "
   ]
  },
  {
   "cell_type": "markdown",
   "metadata": {},
   "source": [
    "### Evaluating the Logistic Regression II\n",
    "Now we evaluate the logistric regression model and see if this offers improvement on the decision tree \n"
   ]
  },
  {
   "cell_type": "code",
   "execution_count": 51,
   "metadata": {},
   "outputs": [
    {
     "name": "stdout",
     "output_type": "stream",
     "text": [
      "+----+---+-------+----+-----+---+-----+\n",
      "| Age| DB|Alkphos|Sgpt| Sgot|ALB|Class|\n",
      "+----+---+-------+----+-----+---+-----+\n",
      "|65.0|0.1|  187.0|16.0| 18.0|3.3|  1.0|\n",
      "|62.0|5.5|  699.0|64.0|100.0|3.2|  1.0|\n",
      "|62.0|4.1|  490.0|60.0| 68.0|3.3|  1.0|\n",
      "|58.0|0.4|  182.0|14.0| 20.0|3.4|  1.0|\n",
      "|72.0|2.0|  195.0|27.0| 59.0|2.4|  1.0|\n",
      "+----+---+-------+----+-----+---+-----+\n",
      "only showing top 5 rows\n",
      "\n"
     ]
    }
   ],
   "source": [
    "liver_df04_noGender.show(5)"
   ]
  },
  {
   "cell_type": "code",
   "execution_count": 52,
   "metadata": {},
   "outputs": [
    {
     "name": "stdout",
     "output_type": "stream",
     "text": [
      "0.7630385487528344\n"
     ]
    }
   ],
   "source": [
    "#train_data_LR, test_data_LR = liver_df04_noGender.randomSplit([0.7, 0.3], seed=1)\n",
    "#train_data_LR.persist()\n",
    "\n",
    "#training_data02,testing_data02\n",
    "\n",
    "featuresCreator_LR = ft.VectorAssembler(inputCols=[\"Age\",\n",
    "                                                \"DB\", \"Alkphos\",\n",
    "                                                \"Sgpt\", \"Sgot\",\n",
    "                                                \"ALB\"], \n",
    "                                                outputCol='features')\n",
    "\n",
    "lr = cl.LogisticRegression(regParam=0.01, maxIter=50, elasticNetParam=0.01, labelCol=\"Class\")\n",
    "pipeline_LR = Pipeline( stages = [featuresCreator_LR, lr] )                                                \n",
    "\n",
    "\n",
    "\n",
    "model_LR = pipeline_LR.fit(training_data02)\n",
    "predictions_LR = model_LR.transform(testing_data02)\n",
    "evaluator_LR = ev.BinaryClassificationEvaluator(rawPredictionCol=\"probability\", labelCol=\"Class\")\n",
    "print(evaluator_LR.evaluate(predictions_LR, {evaluator_LR.metricName: 'areaUnderROC'}))\n",
    "\n",
    "# orig LR = 0.7630385487528344  with min. no. of features "
   ]
  },
  {
   "cell_type": "code",
   "execution_count": 53,
   "metadata": {},
   "outputs": [
    {
     "name": "stdout",
     "output_type": "stream",
     "text": [
      "+----+----+-------+-----+------+---+-----+--------------------+--------------------+--------------------+----------+\n",
      "| Age|  DB|Alkphos| Sgpt|  Sgot|ALB|Class|            features|       rawPrediction|         probability|prediction|\n",
      "+----+----+-------+-----+------+---+-----+--------------------+--------------------+--------------------+----------+\n",
      "| 7.0|11.8| 1420.0|790.0|1050.0|2.0|  1.0|[7.0,11.8,1420.0,...|[-12.715414634773...|[3.00444518024007...|       1.0|\n",
      "|13.0| 0.1|  182.0| 24.0|  19.0|4.9|  1.0|[13.0,0.1,182.0,2...|[0.68602156921425...|[0.66508132142763...|       0.0|\n",
      "|15.0| 0.2|  380.0| 25.0|  66.0|3.7|  1.0|[15.0,0.2,380.0,2...|[-0.2255555049128...|[0.44384898042534...|       1.0|\n",
      "|16.0| 1.2|  236.0|131.0|  90.0|2.6|  1.0|[16.0,1.2,236.0,1...|[-0.9316417807941...|[0.28259175151647...|       1.0|\n",
      "|17.0| 0.1|  206.0| 28.0|  21.0|4.5|  0.0|[17.0,0.1,206.0,2...|[0.45896977456288...|[0.61276974959253...|       0.0|\n",
      "+----+----+-------+-----+------+---+-----+--------------------+--------------------+--------------------+----------+\n",
      "only showing top 5 rows\n",
      "\n"
     ]
    }
   ],
   "source": [
    "predictions_LR.show(5)"
   ]
  },
  {
   "cell_type": "code",
   "execution_count": 54,
   "metadata": {},
   "outputs": [
    {
     "data": {
      "text/plain": [
       "(-1.1171076643822837,\n",
       " 1.2037501958925267,\n",
       " -1.2244245058230088,\n",
       " 1.112941939043226)"
      ]
     },
     "execution_count": 54,
     "metadata": {},
     "output_type": "execute_result"
    },
    {
     "data": {
      "image/png": "[encoded data removed]",
      "text/plain": [
       "<Figure size 432x288 with 1 Axes>"
      ]
     },
     "metadata": {},
     "output_type": "display_data"
    }
   ],
   "source": [
    "##plot the no. of scucuceess \n",
    "predictions_LR.columns\n",
    "numSuccesses = predictions_LR.where(\"(prediction = 0 AND Class = '0') OR (prediction = 1 AND (Class = '1'))\").count()\n",
    "numPredictions = predictions_LR.count()\n",
    "#print(numSuccesses)\n",
    "#print(numInspections)\n",
    "\n",
    "true_positive = predictions_LR.where(\"prediction = 1 AND Class = '1'\").count()\n",
    "false_positive = predictions_LR.where(\"prediction = 1 AND Class = '0'\").count()\n",
    "false_negative = predictions_LR.where(\"prediction = 0 AND Class = '1'\").count()\n",
    "true_negative = predictions_LR.where(\"prediction = 0 AND Class = '0'\").count()\n",
    "\n",
    "#print(true_positive)\n",
    "#print(false_positive)\n",
    "#print(false_negative)\n",
    "#print(true_negative)\n",
    "\n",
    "\n",
    "\n",
    "import matplotlib.pyplot as plt\n",
    "%matplotlib inline\n",
    "\n",
    "\n",
    "labels = ['True positive', 'False positive', 'True negative', 'False negative']\n",
    "sizes = [ true_positive , false_positive ,false_negative , true_negative ]\n",
    "#colors = ['turquoise', 'seagreen', 'mediumslateblue', 'palegreen', 'coral']\n",
    "colors = ['gold', 'red', 'palegreen', 'turquoise' ]\n",
    "explode =(0,0.1,0,0.1) \n",
    "plt.title(\"Pie Chart for Logistic Regression [Selected Features]\", fontsize = 12) \n",
    "plt.pie(sizes, labels=labels, autopct='%1.1f%%', colors=colors,explode =explode,shadow = True)\n",
    "plt.axis('equal')\n",
    "\n"
   ]
  },
  {
   "cell_type": "code",
   "execution_count": 55,
   "metadata": {},
   "outputs": [
    {
     "name": "stdout",
     "output_type": "stream",
     "text": [
      "The area under ROC for train set after CV  is 0.7543448275862064\n",
      "The area under ROC for test set after CV  is 0.7501889644746786\n",
      "PipelineModel_a4f0d92b63c6\n"
     ]
    }
   ],
   "source": [
    "#runs a no. of runs through a ParamGrid Builder to find out the optinium of params for LR \n",
    "lr = cl.LogisticRegression(regParam=0.01, maxIter=50, elasticNetParam=0.01, labelCol=\"Class\")\n",
    "evaluator_LR = ev.BinaryClassificationEvaluator(rawPredictionCol=\"probability\", labelCol=\"Class\")\n",
    "\n",
    "#training_data02,testing_data02\n",
    "featuresCreator_LR = ft.VectorAssembler(inputCols=[\"Age\",\n",
    "                                                \"DB\", \"Alkphos\",\n",
    "                                                \"Sgpt\", \"Sgot\",\n",
    "                                                \"ALB\"], \n",
    "                                                outputCol='features')\n",
    "pipeline_LR = Pipeline( stages = [featuresCreator_LR, lr] ) \n",
    "\n",
    "\n",
    "from pyspark.ml.tuning import ParamGridBuilder, CrossValidator\n",
    "paramGrid = ParamGridBuilder()\\\n",
    "    .addGrid(lr.aggregationDepth,[2,5,10])\\\n",
    "    .addGrid(lr.elasticNetParam,[0.01, 0.5, 1.0])\\\n",
    "    .addGrid(lr.fitIntercept,[False, True])\\\n",
    "    .addGrid(lr.maxIter,[10, 100, 1000])\\\n",
    "    .addGrid(lr.regParam,[0.01, 0.5, 2.0]) \\\n",
    "    .build()\n",
    "\n",
    "# Create 5-fold CrossValidator\n",
    "cv = CrossValidator(estimator=pipeline_LR, estimatorParamMaps=paramGrid, evaluator=evaluator_LR, numFolds=5)\n",
    "\n",
    "# Run cross validations\n",
    "cvModel = cv.fit(training_data02)\n",
    "# this will likely take a fair amount of time because of the amount of models that we're creating and testing\n",
    "predict_train=cvModel.transform(training_data02)\n",
    "predict_test=cvModel.transform(testing_data02)\n",
    "#cV auto uses the best model - find out the ROC \n",
    "#by default it is using ROC for BinaryClassificationEvaluator\n",
    "print(\"The area under ROC for train set after CV  is {}\".format(evaluator_LR.evaluate(predict_train)))\n",
    "print(\"The area under ROC for test set after CV  is {}\".format(evaluator_LR.evaluate(predict_test)))\n",
    "#The area under ROC for train set after CV  is 0.7543448275862064\n",
    "#The area under ROC for test set after CV  is 0.7501889644746786\n",
    "\n",
    "#selected = predict_test.select(\"Class\", \"probability\", \"prediction\")\n",
    "#for row in selected.collect():\n",
    "#    print(row)\n",
    "\n",
    "    \n",
    "bestModel = cvModel.bestModel                    ##Getting the best model\n",
    "print (  bestModel )\n"
   ]
  },
  {
   "cell_type": "code",
   "execution_count": 56,
   "metadata": {},
   "outputs": [],
   "source": [
    "#gets the params for the best model for Logistic Regression\n",
    "param_dict = bestModel.stages[-1].extractParamMap()\n",
    "#bestLRModel = bestModel.stages[2]\n",
    "#bestParams = bestLRModel.extractParamMap()\n",
    "sane_dict = {}\n",
    "for k, v in param_dict.items():\n",
    "  #print (\"k.name >> \"+ k.name )\n",
    "  sane_dict[k.name] = v\n",
    "\n",
    "best_reg = sane_dict[\"regParam\"]\n",
    "best_elastic_net = sane_dict[\"elasticNetParam\"]\n",
    "best_max_iter = sane_dict[\"maxIter\"]"
   ]
  },
  {
   "cell_type": "code",
   "execution_count": 57,
   "metadata": {},
   "outputs": [
    {
     "name": "stdout",
     "output_type": "stream",
     "text": [
      "Best best_reg ... 0.01\n",
      "Best best_elastic_net... 0.01\n",
      "Best maxIter...100\n"
     ]
    }
   ],
   "source": [
    "print(\"Best best_reg ... \" +str(best_reg))\n",
    "print(\"Best best_elastic_net... \" + str (best_elastic_net)) \n",
    "print(\"Best maxIter...\" + str (best_max_iter)) \n"
   ]
  },
  {
   "cell_type": "markdown",
   "metadata": {},
   "source": [
    "We conclude the best params is \n",
    "Best regParam = 0.01\n",
    "Best best_elastic_net = 0.01\n",
    "Best maxIter = 100\n"
   ]
  },
  {
   "cell_type": "code",
   "execution_count": 58,
   "metadata": {},
   "outputs": [
    {
     "name": "stdout",
     "output_type": "stream",
     "text": [
      "Rerunning with tuned parameters....\n",
      "0.7639833711262282\n"
     ]
    }
   ],
   "source": [
    "#redo the LR with best params\n",
    "#train_data_LR, test_data_LR = liver_df04_noGender.randomSplit([0.7, 0.3], seed=1)\n",
    "#train_data_LR.persist()\n",
    "\n",
    "#training_data02,testing_data02\n",
    "featuresCreator_LR = ft.VectorAssembler(inputCols=[\"Age\",\n",
    "                                                \"DB\", \"Alkphos\",\n",
    "                                                \"Sgpt\", \"Sgot\",\n",
    "                                                \"ALB\"], \n",
    "                                                outputCol='features')\n",
    "\n",
    "lr = cl.LogisticRegression(regParam=0.01, maxIter=100, elasticNetParam=0.01, labelCol=\"Class\")\n",
    "pipeline_LR = Pipeline( stages = [featuresCreator_LR, lr] )                                                \n",
    "\n",
    "\n",
    "\n",
    "model_LR = pipeline_LR.fit(training_data02)\n",
    "predictions_LR = model_LR.transform(testing_data02)\n",
    "evaluator_LR = ev.BinaryClassificationEvaluator(rawPredictionCol=\"probability\", labelCol=\"Class\")\n",
    "print(\"Rerunning with tuned parameters....\")\n",
    "print(evaluator_LR.evaluate(predictions_LR, {evaluator_LR.metricName: 'areaUnderROC'}))"
   ]
  },
  {
   "cell_type": "code",
   "execution_count": 59,
   "metadata": {},
   "outputs": [],
   "source": [
    "#Seems like runing the parameters does not give a better prediction\n",
    "## continue with original dataset"
   ]
  },
  {
   "cell_type": "code",
   "execution_count": 60,
   "metadata": {},
   "outputs": [
    {
     "name": "stdout",
     "output_type": "stream",
     "text": [
      "Rerunning with tuned parameters for full features....\n",
      "areaUnderROC under LR = 0.79\n"
     ]
    },
    {
     "data": {
      "text/plain": [
       "0.7882890803587126"
      ]
     },
     "execution_count": 60,
     "metadata": {},
     "output_type": "execute_result"
    }
   ],
   "source": [
    "#we use the best params for whole dataset \n",
    "#with original dataset \n",
    "#TRACKME\n",
    "\n",
    "#training_data, testing_data  are the original ds \n",
    "print(\"Rerunning with tuned parameters for full features....\")\n",
    "featuresCreator_LR = ft.VectorAssembler(inputCols=[\"Age\", \"TB\",\n",
    "                                                \"DB\", \"Alkphos\",\n",
    "                                                \"Sgpt\", \"Sgot\", \"TP\",\n",
    "                                                \"ALB\", \"newAGRatio\"], \n",
    "                                                outputCol='features')\n",
    "\n",
    "lr = cl.LogisticRegression(regParam=0.01, maxIter=100, elasticNetParam=0.01, labelCol=\"Class\")\n",
    "pipeline_LR = Pipeline( stages = [featuresCreator_LR, lr] )                                                \n",
    "\n",
    "\n",
    "\n",
    "model_LR = pipeline_LR.fit(training_data)\n",
    "predictions_LR = model_LR.transform(testing_data)\n",
    "evaluator_LR = ev.BinaryClassificationEvaluator(rawPredictionCol=\"probability\", labelCol=\"Class\")\n",
    "#print( \"ROC for this round \" + str( evaluator_LR.evaluate(test_model_LR, {evaluator.metricName: 'areaUnderROC'}))\n",
    "aoc= evaluator_LR.evaluate(predictions_LR, {evaluator_LR.metricName: 'areaUnderROC'}) \n",
    "\n",
    "#print( str(  evaluator_LR.evaluate(predictions_LR, {evaluator.metricName: 'areaUnderROC'}))       \n",
    "print(\"areaUnderROC under LR = %.2f\" %aoc)     \n",
    "aoc  \n",
    "#print ( type( evaluator_LR.evaluate(predictions_LR, {evaluator.metricName: 'areaUnderROC'}) )) \n",
    "# 0.7630385487528344  \n",
    "\n",
    "\n",
    "#predictions = lrModel.transform(test)\n",
    "\n",
    "#predict_train=model_LR.transform(train_data_LR)\n",
    "#predict_test=model_LR.transform(test_data_LR)\n",
    "#predict_test.show(20)\n",
    "#predict_test.select(\"Class\",\"prediction\",\"probability\").show(10)\n",
    "\n",
    "\n",
    "\n",
    "#print(\"The area under ROC for train set is {}\".format(evaluator_LR.evaluate(predict_train)))\n",
    "#print(\"The area under ROC for test set is {}\".format(evaluator_LR.evaluate(predict_test)))\n",
    "#predictions_LR.show(5)\n",
    "#from IPython.display import display\n",
    "#display(model_LR, predictions_LR, \"ROC\")\n",
    "\n",
    "\n",
    "\n"
   ]
  },
  {
   "cell_type": "code",
   "execution_count": 61,
   "metadata": {},
   "outputs": [
    {
     "data": {
      "text/plain": [
       "'labelCol: label column name. (default: label, current: Class)\\nmetricName: metric name in evaluation (areaUnderROC|areaUnderPR) (default: areaUnderROC)\\nrawPredictionCol: raw prediction (a.k.a. confidence) column name. (default: rawPrediction, current: probability)'"
      ]
     },
     "execution_count": 61,
     "metadata": {},
     "output_type": "execute_result"
    }
   ],
   "source": [
    "evaluator_LR.explainParams()"
   ]
  },
  {
   "cell_type": "code",
   "execution_count": 62,
   "metadata": {},
   "outputs": [
    {
     "name": "stdout",
     "output_type": "stream",
     "text": [
      "0.75\n",
      "0.7051930147058825\n",
      "0.7295481106349825\n",
      "0.75\n",
      "0.5922278881659927\n"
     ]
    }
   ],
   "source": [
    "#optional we try to get acc , f1, weightPrecision, weightRecall, auc through different ClassClassifitcation\n",
    "from sklearn.metrics import roc_curve,auc\n",
    "from pyspark.mllib.evaluation import BinaryClassificationMetrics\n",
    "from pyspark.mllib.evaluation import MulticlassMetrics\n",
    "\n",
    "predictionAndTarget = predictions_LR.select(\"Class\", \"prediction\")\n",
    "\n",
    "evaluatorMulti = ev.MulticlassClassificationEvaluator(labelCol=\"Class\", predictionCol=\"prediction\")\n",
    "##evaluator = ev.BinaryClassificationEvaluator(labelCol=\"Class\", rawPredictionCol=\"rawPrediction\", predictionCol=\"prediction\", metricName='areaUnderROC')\n",
    "\n",
    "evaluator = ev.BinaryClassificationEvaluator(labelCol=\"Class\", rawPredictionCol=\"prediction\", metricName='areaUnderROC')\n",
    "\n",
    "\n",
    "# Get metrics\n",
    "acc = evaluatorMulti.evaluate(predictionAndTarget, {evaluatorMulti.metricName: \"accuracy\"})\n",
    "f1 = evaluatorMulti.evaluate(predictionAndTarget, {evaluatorMulti.metricName: \"f1\"})\n",
    "weightedPrecision = evaluatorMulti.evaluate(predictionAndTarget, {evaluatorMulti.metricName: \"weightedPrecision\"})\n",
    "weightedRecall = evaluatorMulti.evaluate(predictionAndTarget, {evaluatorMulti.metricName: \"weightedRecall\"})\n",
    "auc = evaluator.evaluate(predictionAndTarget)\n",
    "\n",
    "print (acc)\n",
    "print (f1)\n",
    "print (weightedPrecision)\n",
    "print (weightedRecall)\n",
    "print (auc)"
   ]
  },
  {
   "cell_type": "code",
   "execution_count": 63,
   "metadata": {},
   "outputs": [
    {
     "data": {
      "text/plain": [
       "(-1.117089423782036,\n",
       " 1.2033671432873232,\n",
       " -1.2275317595693132,\n",
       " 1.1130899035073358)"
      ]
     },
     "execution_count": 63,
     "metadata": {},
     "output_type": "execute_result"
    },
    {
     "data": {
      "image/png": "[encoded data removed]",
      "text/plain": [
       "<Figure size 432x288 with 1 Axes>"
      ]
     },
     "metadata": {},
     "output_type": "display_data"
    }
   ],
   "source": [
    "##plot the no. of scucuceess \n",
    "predictions_LR.columns\n",
    "numSuccesses = predictions_LR.where(\"(prediction = 0 AND Class = '0') OR (prediction = 1 AND (Class = '1'))\").count()\n",
    "numPredictions = predictions_LR.count()\n",
    "#print(numSuccesses)\n",
    "#print(numInspections)\n",
    "\n",
    "true_positive = predictions_LR.where(\"prediction = 1 AND Class = '1'\").count()\n",
    "false_positive = predictions_LR.where(\"prediction = 1 AND Class = '0'\").count()\n",
    "false_negative = predictions_LR.where(\"prediction = 0 AND Class = '1'\").count()\n",
    "true_negative = predictions_LR.where(\"prediction = 0 AND Class = '0'\").count()\n",
    "\n",
    "#print(true_positive)\n",
    "#print(false_positive)\n",
    "#print(false_negative)\n",
    "#print(true_negative)\n",
    "\n",
    "\n",
    "\n",
    "import matplotlib.pyplot as plt\n",
    "%matplotlib inline\n",
    "\n",
    "\n",
    "labels = ['True positive', 'False positive', 'True negative', 'False negative']\n",
    "sizes = [ true_positive , false_positive ,false_negative , true_negative ]\n",
    "#colors = ['turquoise', 'seagreen', 'mediumslateblue', 'palegreen', 'coral']\n",
    "colors = ['gold', 'red', 'palegreen', 'turquoise' ]\n",
    "explode =(0,0.1,0,0.1) \n",
    "plt.title(\"Pie Chart for Logistic Regression [All Features]\", fontsize = 12) \n",
    "plt.pie(sizes, labels=labels, autopct='%1.1f%%', colors=colors,explode =explode,shadow = True)\n",
    "plt.axis('equal')"
   ]
  },
  {
   "cell_type": "markdown",
   "metadata": {},
   "source": [
    "#### LR params that work best = regParam=0.01, maxIter=50, elasticNetParam=0.01, labelCol=\"Class\") for selected features\n",
    "#### In short We got a 0.78 for LR with the original dataset (no dropping of corelations ) but the multiclassEvluator etc gives a 0.76 instead"
   ]
  },
  {
   "cell_type": "markdown",
   "metadata": {},
   "source": [
    "### End the Logistic Regression II "
   ]
  },
  {
   "cell_type": "code",
   "execution_count": null,
   "metadata": {},
   "outputs": [],
   "source": []
  },
  {
   "cell_type": "markdown",
   "metadata": {},
   "source": [
    "### Evaluating the Random Forest Model\n"
   ]
  },
  {
   "cell_type": "code",
   "execution_count": 64,
   "metadata": {},
   "outputs": [
    {
     "name": "stdout",
     "output_type": "stream",
     "text": [
      "+----+---+-------+----+-----+---+-----+\n",
      "| Age| DB|Alkphos|Sgpt| Sgot|ALB|Class|\n",
      "+----+---+-------+----+-----+---+-----+\n",
      "|65.0|0.1|  187.0|16.0| 18.0|3.3|  1.0|\n",
      "|62.0|5.5|  699.0|64.0|100.0|3.2|  1.0|\n",
      "|62.0|4.1|  490.0|60.0| 68.0|3.3|  1.0|\n",
      "|58.0|0.4|  182.0|14.0| 20.0|3.4|  1.0|\n",
      "|72.0|2.0|  195.0|27.0| 59.0|2.4|  1.0|\n",
      "+----+---+-------+----+-----+---+-----+\n",
      "only showing top 5 rows\n",
      "\n"
     ]
    }
   ],
   "source": [
    "#Let's do a RF \n",
    "liver_df04_noGender.show(5)"
   ]
  },
  {
   "cell_type": "code",
   "execution_count": 65,
   "metadata": {},
   "outputs": [
    {
     "name": "stdout",
     "output_type": "stream",
     "text": [
      "RF with SELECTED features\n",
      "['Age', 'DB', 'Alkphos', 'Sgpt', 'Sgot', 'ALB', 'Class', 'features', 'rawPrediction', 'probability', 'prediction']\n",
      "+-----+----------+--------------------+\n",
      "|Class|prediction|         probability|\n",
      "+-----+----------+--------------------+\n",
      "|  1.0|       1.0|           [0.2,0.8]|\n",
      "|  1.0|       1.0|[0.47037037037037...|\n",
      "|  1.0|       1.0|[0.37502153316106...|\n",
      "|  1.0|       1.0|           [0.3,0.7]|\n",
      "|  0.0|       0.0|[0.58287037037037...|\n",
      "+-----+----------+--------------------+\n",
      "only showing top 5 rows\n",
      "\n",
      "areaUnderROC [selected Features ]= 0.743953\n"
     ]
    }
   ],
   "source": [
    "# Split the data into training and test sets (30% held out for testing)\n",
    "#generate with  selected first \n",
    "print(\"RF with SELECTED features\")\n",
    "#(trainingData, testData) = liver_df04_noGender.randomSplit([0.7, 0.3], seed=1)\n",
    "#trainingData.persist()\n",
    "\n",
    "featuresCreator_RF= ft.VectorAssembler(inputCols=[\"Age\",\n",
    "                                                \"DB\", \"Alkphos\",\n",
    "                                                \"Sgpt\", \"Sgot\",\n",
    "                                                \"ALB\"], \n",
    "                                                outputCol='features')\n",
    "#rf = cl.RandomForestClassifier(numTrees=50,labelCol=\"Class\", maxDepth=27)\n",
    "\n",
    "# Train a RandomForest model.\n",
    "rf = cl.RandomForestClassifier(labelCol=\"Class\", maxDepth=10, numTrees=10)\n",
    "\n",
    "# Chain indexers and forest in a Pipeline\n",
    "pipeline_RF = Pipeline(stages=[ featuresCreator_RF, rf ])\n",
    "\n",
    "# Train model.  This also runs the indexers.\n",
    "model = pipeline_RF.fit(training_data02)\n",
    "\n",
    "# Make predictions.\n",
    "predictions = model.transform(testing_data02)\n",
    "\n",
    "print(predictions.columns)\n",
    "# Select example rows to display.\n",
    "predictions.select(\"Class\", \"prediction\", \"probability\").show(5)\n",
    "\n",
    "# Select (prediction, true label) and compute test error\n",
    "#evaluator = ev.MulticlassClassificationEvaluator( labelCol=\"Class\", predictionCol=\"prediction\", metricName=\"accuracy\")\n",
    "evaluator = ev.BinaryClassificationEvaluator(labelCol='Class', metricName='areaUnderROC')\n",
    "\n",
    "\n",
    "accuracy = evaluator.evaluate(predictions)\n",
    "print(\"areaUnderROC [selected Features ]= %g\" % (accuracy))\n",
    "#print(\"Test Error = %g\" % (1.0 - accuracy))\n",
    "\n",
    "rfModel = model.stages[1]\n",
    "#print(rfModel.toDebugString)  # summary only\n"
   ]
  },
  {
   "cell_type": "code",
   "execution_count": 66,
   "metadata": {},
   "outputs": [
    {
     "name": "stdout",
     "output_type": "stream",
     "text": [
      "+----+----+---+-------+-----+-----+---+---+-----+----------+\n",
      "| Age|  TB| DB|Alkphos| Sgpt| Sgot| TP|ALB|Class|newAGRatio|\n",
      "+----+----+---+-------+-----+-----+---+---+-----+----------+\n",
      "|65.0| 0.7|0.1|  187.0| 16.0| 18.0|6.8|3.3|  1.0|       0.9|\n",
      "|62.0|10.9|5.5|  699.0| 64.0|100.0|7.5|3.2|  1.0|      0.74|\n",
      "|62.0| 7.3|4.1|  490.0| 60.0| 68.0|7.0|3.3|  1.0|      0.89|\n",
      "|58.0| 1.0|0.4|  182.0| 14.0| 20.0|6.8|3.4|  1.0|       1.0|\n",
      "|72.0| 3.9|2.0|  195.0| 27.0| 59.0|7.3|2.4|  1.0|       0.4|\n",
      "|46.0| 1.8|0.7|  208.0| 19.0| 14.0|7.6|4.4|  1.0|       1.3|\n",
      "|26.0| 0.9|0.2|  154.0| 16.0| 12.0|7.0|3.5|  1.0|       1.0|\n",
      "|29.0| 0.9|0.3|  202.0| 14.0| 11.0|6.7|3.6|  1.0|       1.1|\n",
      "|17.0| 0.9|0.3|  202.0| 22.0| 19.0|7.4|4.1|  0.0|       1.2|\n",
      "|55.0| 0.7|0.2|  290.0| 53.0| 58.0|6.8|3.4|  1.0|       1.0|\n",
      "|57.0| 0.6|0.1|  210.0| 51.0| 59.0|5.9|2.7|  1.0|       0.8|\n",
      "|72.0| 2.7|1.3|  260.0| 31.0| 56.0|7.4|3.0|  1.0|       0.6|\n",
      "|64.0| 0.9|0.3|  310.0| 61.0| 58.0|7.0|3.4|  0.0|       0.9|\n",
      "|74.0| 1.1|0.4|  214.0| 22.0| 30.0|8.1|4.1|  1.0|       1.0|\n",
      "|61.0| 0.7|0.2|  145.0| 53.0| 41.0|5.8|2.7|  1.0|      0.87|\n",
      "|25.0| 0.6|0.1|  183.0| 91.0| 53.0|5.5|2.3|  0.0|       0.7|\n",
      "|38.0| 1.8|0.8|  342.0|168.0|441.0|7.6|4.4|  1.0|       1.3|\n",
      "|33.0| 1.6|0.5|  165.0| 15.0| 23.0|7.3|3.5|  0.0|      0.92|\n",
      "|40.0| 0.9|0.3|  293.0|232.0|245.0|6.8|3.1|  1.0|       0.8|\n",
      "|40.0| 0.9|0.3|  293.0|232.0|245.0|6.8|3.1|  1.0|       0.8|\n",
      "+----+----+---+-------+-----+-----+---+---+-----+----------+\n",
      "only showing top 20 rows\n",
      "\n"
     ]
    }
   ],
   "source": [
    "liver_df03_noGender.show()"
   ]
  },
  {
   "cell_type": "code",
   "execution_count": 67,
   "metadata": {},
   "outputs": [
    {
     "name": "stdout",
     "output_type": "stream",
     "text": [
      "RF with all the features\n",
      "['Age', 'TB', 'DB', 'Alkphos', 'Sgpt', 'Sgot', 'TP', 'ALB', 'Class', 'newAGRatio', 'features', 'rawPrediction', 'probability', 'prediction']\n",
      "areaUnderROC [full features] = 0.683577\n"
     ]
    }
   ],
   "source": [
    "## DO A RF with all the features \n",
    "print(\"RF with all the features\")\n",
    "\n",
    "#training_data, testing_data \n",
    "\n",
    "featuresCreator_RF= ft.VectorAssembler(inputCols=[\"Age\", \"TB\",\n",
    "                                                \"DB\", \"Alkphos\",\n",
    "                                                \"Sgpt\", \"Sgot\",\"TP\",\n",
    "                                                \"ALB\",\"newAGRatio\"], \n",
    "                                                outputCol='features')\n",
    "#rf = cl.RandomForestClassifier(numTrees=50,labelCol=\"Class\", maxDepth=27)\n",
    "\n",
    "# Train a RandomForest model.\n",
    "rf = cl.RandomForestClassifier(labelCol=\"Class\", maxDepth=10, numTrees=10)\n",
    "\n",
    "\n",
    "\n",
    "# Chain indexers and forest in a Pipeline\n",
    "pipeline_RF = Pipeline(stages=[ featuresCreator_RF, rf ])\n",
    "\n",
    "# Train model. \n",
    "model = pipeline_RF.fit(training_data)\n",
    "\n",
    "# Make predictions.\n",
    "predictions = model.transform(testing_data)\n",
    "\n",
    "print(predictions.columns)\n",
    "# Select example rows to display.\n",
    "#predictions.select(\"Class\", \"prediction\", \"probability\").show(5)\n",
    "\n",
    "# Select (prediction, true label) and compute test error\n",
    "#evaluator = ev.MulticlassClassificationEvaluator( labelCol=\"Class\", predictionCol=\"prediction\", metricName=\"accuracy\")\n",
    "evaluator = ev.BinaryClassificationEvaluator(labelCol='Class', metricName='areaUnderROC')\n",
    "\n",
    "\n",
    "aoc = evaluator.evaluate(predictions)\n",
    "print(\"areaUnderROC [full features] = %g\" % (aoc))\n",
    "#print(\"Test Error = %g\" % (1.0 - accuracy))"
   ]
  },
  {
   "cell_type": "code",
   "execution_count": 68,
   "metadata": {},
   "outputs": [],
   "source": [
    "#random forest with trees "
   ]
  },
  {
   "cell_type": "markdown",
   "metadata": {},
   "source": [
    "We conclude that RF (selected features) gives AOC= 0.743953 is a better one "
   ]
  },
  {
   "cell_type": "markdown",
   "metadata": {},
   "source": [
    "### End Evaluating the Random Forest Model\n"
   ]
  },
  {
   "cell_type": "code",
   "execution_count": 69,
   "metadata": {},
   "outputs": [
    {
     "data": {
      "text/plain": [
       "['Age', 'DB', 'Alkphos', 'Sgpt', 'Sgot', 'ALB', 'Class']"
      ]
     },
     "execution_count": 69,
     "metadata": {},
     "output_type": "execute_result"
    }
   ],
   "source": [
    "liver_df04_noGender.columns"
   ]
  },
  {
   "cell_type": "code",
   "execution_count": 70,
   "metadata": {},
   "outputs": [
    {
     "name": "stdout",
     "output_type": "stream",
     "text": [
      " Optional -taking into Gender and one-hot-encoding Gendre to try with FULL features\n",
      "0.6702712609970675\n",
      "+----+------+---+---+-------+-----+-----+---+---+-----+----------+----------+--------------+--------------------+------------------+\n",
      "| Age|Gender| TB| DB|Alkphos| Sgpt| Sgot| TP|ALB|Class|newAGRatio|Gender-num|Gender-num-vec|            features|        prediction|\n",
      "+----+------+---+---+-------+-----+-----+---+---+-----+----------+----------+--------------+--------------------+------------------+\n",
      "| 7.0|  Male|0.5|0.1|  352.0| 28.0| 51.0|7.9|4.2|  0.0|       1.1|       0.0| (1,[0],[1.0])|[1.0,0.5,0.1,352....|              0.64|\n",
      "|13.0|Female|0.7|0.1|  182.0| 24.0| 19.0|8.9|4.9|  1.0|       1.2|       1.0|     (1,[],[])|[0.0,0.7,0.1,182....|0.2826086956521739|\n",
      "|15.0|  Male|0.8|0.2|  380.0| 25.0| 66.0|6.1|3.7|  1.0|       1.5|       0.0| (1,[0],[1.0])|[1.0,0.8,0.2,380....|              0.64|\n",
      "|16.0|  Male|2.6|1.2|  236.0|131.0| 90.0|5.4|2.6|  1.0|       0.9|       0.0| (1,[0],[1.0])|[1.0,2.6,1.2,236....|0.7727272727272727|\n",
      "|17.0|Female|0.5|0.1|  206.0| 28.0| 21.0|7.1|4.5|  0.0|       1.7|       1.0|     (1,[],[])|[0.0,0.5,0.1,206....|              0.64|\n",
      "|17.0|  Male|0.9|0.3|  202.0| 22.0| 19.0|7.4|4.1|  0.0|       1.2|       0.0| (1,[0],[1.0])|[1.0,0.9,0.3,202....|              0.64|\n",
      "|18.0|  Male|0.7|0.1|  312.0|308.0|405.0|6.9|3.7|  1.0|       1.1|       0.0| (1,[0],[1.0])|[1.0,0.7,0.1,312....|               0.9|\n",
      "|18.0|  Male|0.9|0.3|  300.0| 30.0| 48.0|8.0|4.0|  1.0|       1.0|       0.0| (1,[0],[1.0])|[1.0,0.9,0.3,300....|              0.64|\n",
      "|19.0|Female|0.7|0.2|  186.0|166.0|397.0|5.5|3.0|  1.0|       1.2|       1.0|     (1,[],[])|[0.0,0.7,0.2,186....|               0.9|\n",
      "|20.0|Female|0.6|0.2|  202.0| 12.0| 13.0|6.1|3.0|  0.0|       0.9|       1.0|     (1,[],[])|[0.0,0.6,0.2,202....|               0.2|\n",
      "+----+------+---+---+-------+-----+-----+---+---+-----+----------+----------+--------------+--------------------+------------------+\n",
      "only showing top 10 rows\n",
      "\n"
     ]
    }
   ],
   "source": [
    "#TRACKME\n",
    "print (\" Optional -taking into Gender and one-hot-encoding Gendre to try with FULL features\")\n",
    "\n",
    "liver05_justForOneHot = liver_df02_t.drop(\"new_id\").drop(\"AGRatio\")\n",
    "#Decision tree with one-hot encoding with original DS \n",
    "#selectedCols = [ \"TB\",\"DB\", \"Alkphos\", \"Sgpt\",\"Sgot\",\"TP\" , \"ALB\", \"newAGRatio\"] \n",
    "\n",
    "import pyspark.ml.feature as ft\n",
    "\n",
    "gender_indexer = ft.StringIndexer(inputCol=\"Gender\", outputCol=\"Gender-num\")\n",
    "gender_encoder = ft.OneHotEncoder(inputCol=\"Gender-num\", outputCol='Gender-num-vec')\n",
    "\n",
    "featuresCreator3 = ft.VectorAssembler(inputCols=[\"Gender-num-vec\",\"TB\",\"DB\", \"Alkphos\", \"Sgpt\",\"Sgot\",\"TP\" , \"ALB\", \"newAGRatio\"], outputCol='features')\n",
    "\n",
    "\n",
    "\n",
    "\n",
    "import pyspark.ml.regression as reg\n",
    "dr3 = reg.DecisionTreeRegressor(labelCol=\"Class\")\n",
    "\n",
    "\n",
    "from pyspark.ml import Pipeline\n",
    "\n",
    "#[gender_indexer,gender_encoder,\n",
    "#featuresCreator3, dr3] )\n",
    "\n",
    "pipeline3 = Pipeline( stages = [gender_indexer,gender_encoder,\n",
    "                               featuresCreator3, dr3] )\n",
    "\n",
    "train_data3, test_data3 = liver05_justForOneHot.randomSplit([0.7, 0.3], seed=1)\n",
    "train_data3.persist()\n",
    "\n",
    "model3 = pipeline3.fit(train_data3)\n",
    "\n",
    "predictions3 = model3.transform(test_data3)\n",
    "#evaluator3 = ev.MulticlassClassificationEvaluator(predictionCol=\"prediction\", labelCol=\"Class\", \n",
    "#                                                 metricName=\"accuracy\")\n",
    "evaluator3 = ev.BinaryClassificationEvaluator(rawPredictionCol=\"prediction\", labelCol=\"Class\")\n",
    "\n",
    "\n",
    "accuracy3 = evaluator3.evaluate(predictions3)\n",
    "print(accuracy3)\n",
    "\n",
    "predictions3.show(10)"
   ]
  },
  {
   "cell_type": "code",
   "execution_count": 71,
   "metadata": {},
   "outputs": [
    {
     "name": "stdout",
     "output_type": "stream",
     "text": [
      "+----+------+----+---+-------+----+-----+---+---+-----+----------+\n",
      "| Age|Gender|  TB| DB|Alkphos|Sgpt| Sgot| TP|ALB|Class|newAGRatio|\n",
      "+----+------+----+---+-------+----+-----+---+---+-----+----------+\n",
      "|65.0|Female| 0.7|0.1|  187.0|16.0| 18.0|6.8|3.3|  1.0|       0.9|\n",
      "|62.0|  Male|10.9|5.5|  699.0|64.0|100.0|7.5|3.2|  1.0|      0.74|\n",
      "|62.0|  Male| 7.3|4.1|  490.0|60.0| 68.0|7.0|3.3|  1.0|      0.89|\n",
      "|58.0|  Male| 1.0|0.4|  182.0|14.0| 20.0|6.8|3.4|  1.0|       1.0|\n",
      "|72.0|  Male| 3.9|2.0|  195.0|27.0| 59.0|7.3|2.4|  1.0|       0.4|\n",
      "+----+------+----+---+-------+----+-----+---+---+-----+----------+\n",
      "only showing top 5 rows\n",
      "\n",
      " Optional -taking into Gender and one-hot-encoding Gendre to try with SELECTED features\n",
      "0.5443548387096775\n"
     ]
    }
   ],
   "source": [
    "liver05_justForOneHot.show(5)\n",
    "#liver_df02_t.drop(\"new_id\").drop(\"AGRatio\").drop (\"TP\").drop(\"newAGRatio\").drop(\"TB\")\n",
    "#liver05_justForOneHot = liver_df02_t.drop(\"new_id\").drop(\"AGRatio\")\n",
    "liver05_justForOneHot = liver_df02_t.drop(\"new_id\").drop(\"AGRatio\").drop (\"TP\").drop(\"newAGRatio\").drop(\"TB\")\n",
    "\n",
    "print (\" Optional -taking into Gender and one-hot-encoding Gendre to try with SELECTED features\")\n",
    "#Decision tree with one-hot encoding with original DS \n",
    "#selectedCols = [ \"TB\",\"DB\", \"Alkphos\", \"Sgpt\",\"Sgot\",\"TP\" , \"ALB\", \"newAGRatio\"] \n",
    "\n",
    "import pyspark.ml.feature as ft\n",
    "\n",
    "gender_indexer = ft.StringIndexer(inputCol=\"Gender\", outputCol=\"Gender-num\")\n",
    "gender_encoder = ft.OneHotEncoder(inputCol=\"Gender-num\", outputCol='Gender-num-vec')\n",
    "\n",
    "\n",
    "featuresCreator3 = ft.VectorAssembler(inputCols=[\"Gender-num-vec\",\"DB\", \"Alkphos\", \"Sgpt\",\"Sgot\", \"ALB\"], outputCol='features')\n",
    "\n",
    "import pyspark.ml.classification as cl\n",
    "#dt = cl.DecisionTreeClassifier(labelCol=\"Class\",impurity=\"entropy\") \n",
    "dr3 = cl.DecisionTreeClassifier(labelCol=\"Class\")\n",
    "\n",
    "\n",
    "from pyspark.ml import Pipeline\n",
    "pipeline3 = Pipeline( stages = [gender_indexer,gender_encoder,\n",
    "                               featuresCreator3, dr3] )\n",
    "\n",
    "train_data3, test_data3 = liver05_justForOneHot.randomSplit([0.7, 0.3], seed=1)\n",
    "train_data3.persist()\n",
    "test_data3.persist()\n",
    "\n",
    "model3 = pipeline3.fit(train_data3)\n",
    "\n",
    "predictions3 = model3.transform(test_data3)\n",
    "#evaluator3 = ev.MulticlassClassificationEvaluator(predictionCol=\"prediction\", labelCol=\"Class\", metricName=\"accuracy\")\n",
    "\n",
    "evaluator3 = ev.BinaryClassificationEvaluator(rawPredictionCol=\"prediction\", labelCol=\"Class\")\n",
    "\n",
    "accuracy3 = evaluator3.evaluate(predictions3)\n",
    "print(accuracy3)"
   ]
  },
  {
   "cell_type": "code",
   "execution_count": 72,
   "metadata": {},
   "outputs": [
    {
     "name": "stdout",
     "output_type": "stream",
     "text": [
      "+----+------+---+-------+----+-----+---+-----+\n",
      "| Age|Gender| DB|Alkphos|Sgpt| Sgot|ALB|Class|\n",
      "+----+------+---+-------+----+-----+---+-----+\n",
      "|65.0|Female|0.1|  187.0|16.0| 18.0|3.3|  1.0|\n",
      "|62.0|  Male|5.5|  699.0|64.0|100.0|3.2|  1.0|\n",
      "|62.0|  Male|4.1|  490.0|60.0| 68.0|3.3|  1.0|\n",
      "|58.0|  Male|0.4|  182.0|14.0| 20.0|3.4|  1.0|\n",
      "|72.0|  Male|2.0|  195.0|27.0| 59.0|2.4|  1.0|\n",
      "+----+------+---+-------+----+-----+---+-----+\n",
      "only showing top 5 rows\n",
      "\n",
      "<class 'pyspark.ml.feature.VectorAssembler'>\n",
      "0.6862170087976539\n"
     ]
    }
   ],
   "source": [
    "#full set with all fields \n",
    "liver05_justForOneHot.show(5)\n",
    "#liver_df02_t.drop(\"new_id\").drop(\"AGRatio\").drop (\"TP\").drop(\"newAGRatio\").drop(\"TB\")\n",
    "#liver05_justForOneHot = liver_df02_t.drop(\"new_id\").drop(\"AGRatio\")\n",
    "liver05_justForOneHot = liver_df02_t.drop(\"new_id\").drop(\"AGRatio\").drop (\"TP\").drop(\"newAGRatio\").drop(\"TB\")\n",
    "\n",
    "\n",
    "#Decision tree with one-hot encoding with original DS \n",
    "\n",
    "#selectedCols = [ \"TB\",\"DB\", \"Alkphos\", \"Sgpt\",\"Sgot\",\"TP\" , \"ALB\", \"newAGRatio\"] \n",
    "\n",
    "import pyspark.ml.feature as ft\n",
    "\n",
    "gender_indexer = ft.StringIndexer(inputCol=\"Gender\", outputCol=\"Gender-num\")\n",
    "\n",
    "\n",
    "featuresCreator3 = ft.VectorAssembler(inputCols=[\"Gender-num\",\"DB\", \"Alkphos\", \"Sgpt\",\"Sgot\", \"ALB\"], outputCol='features')\n",
    "\n",
    "print(type(featuresCreator3))\n",
    "\n",
    "import pyspark.ml.classification as cl\n",
    "#dt = cl.DecisionTreeClassifier(labelCol=\"Class\",impurity=\"entropy\") \n",
    "dr3 = cl.DecisionTreeClassifier(labelCol=\"Class\")\n",
    "\n",
    "\n",
    "from pyspark.ml import Pipeline\n",
    "pipeline3 = Pipeline( stages = [gender_indexer,\n",
    "                               featuresCreator3, dr3] )\n",
    "\n",
    "train_data3, test_data3 = liver05_justForOneHot.randomSplit([0.7, 0.3], seed=1)\n",
    "train_data3.persist()\n",
    "test_data3.persist() \n",
    "\n",
    "model3 = pipeline3.fit(train_data3)\n",
    "\n",
    "predictions3 = model3.transform(test_data3)\n",
    "#evaluator3 = ev.MulticlassClassificationEvaluator(predictionCol=\"prediction\", labelCol=\"Class\", metricName=\"accuracy\")\n",
    "\n",
    "evaluator3 = ev.BinaryClassificationEvaluator(rawPredictionCol=\"probability\", labelCol=\"Class\")\n",
    "accuracy3 = evaluator3.evaluate(predictions3)\n",
    "\n",
    "\n",
    "print(accuracy3)"
   ]
  },
  {
   "cell_type": "code",
   "execution_count": 73,
   "metadata": {},
   "outputs": [],
   "source": [
    "#Means that gender does not play a part in the ML in this dataset \n",
    "#Try with outlier remove "
   ]
  },
  {
   "cell_type": "markdown",
   "metadata": {},
   "source": [
    "### Optional : START Try doing a DT with outliers remove in \"TB\""
   ]
  },
  {
   "cell_type": "code",
   "execution_count": 74,
   "metadata": {},
   "outputs": [
    {
     "name": "stdout",
     "output_type": "stream",
     "text": [
      "No. of outliers for column [TB] > 98\n",
      "No. of outliers for column [DB] > 96\n",
      "No. of outliers for column [Alkphos] > 77\n",
      "No. of outliers for column [Sgpt] > 80\n",
      "No. of outliers for column [Sgot] > 80\n",
      "No. of outliers for column [TP] > 8\n",
      "No. of outliers for column [ALB] > 2\n",
      "No. of outliers for column [newAGRatio] > 10\n",
      "[0.8, 2.1]\n"
     ]
    }
   ],
   "source": [
    "#try with outlier remove \n",
    "#\n",
    "numerical_columns_features = [ \"TB\",\"DB\", \"Alkphos\", \"Sgpt\",\"Sgot\",\"TP\" , \"ALB\", \"newAGRatio\"] \n",
    "for i in numerical_columns_features: \n",
    "    #liver_df02_t.describe(i).show()\n",
    "    quantiles_F = liver_df02_t.approxQuantile(i, [0.25, 0.75], 0.05)\n",
    "    #print ( str(quantiles_F) + \"...\"+i + \"...\" )\n",
    "    IQR_F = quantiles_F[1] - quantiles_F[0]\n",
    "    #print ( str(quantiles_F) + \"...\"+i + \"...IQR_F\"+  str(IQR_F))\n",
    "    bounds_F = [ quantiles_F[0] - 1.5 * IQR_F, quantiles_F[1] + 1.5 * IQR_F ]\n",
    "    #print ( str(quantiles_F) + \"...\"+i + \"...IQR_F\"+  str(IQR_F)+ \"...bounds_F[0]\"+ str(bounds_F[0])+\"..bounds_F[1]\" + str(bounds_F[1]))\n",
    "    #liver_df02_t.filter( (liver_df02_t[i] < bounds_F[0]) | (liver_df02_t[i] > bounds_F[1]) ).show()\n",
    "    no_outliers_F = liver_df02_t.filter( (liver_df02_t[i] < bounds_F[0]) | (liver_df02_t[i] > bounds_F[1]) ).count() \n",
    "    print( \"No. of outliers for column [\"+i+\"] > \" + str(no_outliers_F) ) \n",
    "\n",
    "#get outliers for TB\n",
    "quantiles_TB = liver_df02_t.approxQuantile(\"TB\", [0.25, 0.75], 0.05)\n",
    "print ( quantiles_TB )\n",
    "IQR_TB = quantiles_TB[1] - quantiles_TB[0]\n",
    "boundsTB = [ quantiles_TB[0] - 1.5 * IQR_TB, quantiles_TB[1] + 1.5 * IQR_TB ]\n",
    "##show those records that are outliers for TB \n",
    "liver_df04_dropOutliersTB = liver_df02_t.filter( (boundsTB[0] <=liver_df02_t.TB ) & ( liver_df02_t.TB <= boundsTB[1]) )\n",
    "\n"
   ]
  },
  {
   "cell_type": "code",
   "execution_count": 75,
   "metadata": {},
   "outputs": [
    {
     "name": "stdout",
     "output_type": "stream",
     "text": [
      "Aftering drop TB Outliers 485\n",
      "[0.2, 0.6]\n",
      "No. of outliers for column [TB] > 202\n",
      "No. of outliers for column [DB] > 207\n",
      "No. of outliers for column [Alkphos] > 104\n",
      "No. of outliers for column [Sgpt] > 105\n",
      "No. of outliers for column [Sgot] > 125\n",
      "No. of outliers for column [TP] > 15\n",
      "No. of outliers for column [ALB] > 5\n",
      "No. of outliers for column [newAGRatio] > 26\n",
      "Aftering drop TB Outliers 435\n",
      "No. of outliers for column [TB] > 202\n",
      "No. of outliers for column [DB] > 207\n",
      "No. of outliers for column [Alkphos] > 104\n",
      "No. of outliers for column [Sgpt] > 105\n",
      "No. of outliers for column [Sgot] > 125\n",
      "No. of outliers for column [TP] > 15\n",
      "No. of outliers for column [ALB] > 5\n",
      "No. of outliers for column [newAGRatio] > 26\n"
     ]
    },
    {
     "data": {
      "image/png": "[encoded data removed]",
      "text/plain": [
       "<Figure size 864x864 with 1 Axes>"
      ]
     },
     "metadata": {
      "needs_background": "light"
     },
     "output_type": "display_data"
    },
    {
     "data": {
      "image/png": "[encoded data removed]",
      "text/plain": [
       "<Figure size 1080x1440 with 10 Axes>"
      ]
     },
     "metadata": {
      "needs_background": "light"
     },
     "output_type": "display_data"
    }
   ],
   "source": [
    "type(liver_df04_dropOutliersTB.count())\n",
    "print ( \"Aftering drop TB Outliers \" + str (liver_df04_dropOutliersTB.count()) )\n",
    "\n",
    "#get outliers for DB\n",
    "quantiles_DB = liver_df04_dropOutliersTB.approxQuantile(\"DB\", [0.25, 0.75], 0.05)\n",
    "print ( quantiles_DB )\n",
    "IQR_DB = quantiles_DB[1] - quantiles_DB[0]\n",
    "boundsDB = [ quantiles_DB[0] - 1.5 * IQR_DB, quantiles_DB[1] + 1.5 * IQR_DB ]\n",
    "##show those records that are outliers for TB \n",
    "liver_df04_dropOutliersTB = liver_df04_dropOutliersTB.filter( (boundsDB[0] <=liver_df02_t.DB ) & ( liver_df02_t.DB <= boundsDB[1]) )\n",
    "\n",
    "\n",
    "\n",
    "\n",
    "numerical_columns_features = [ \"TB\",\"DB\", \"Alkphos\", \"Sgpt\",\"Sgot\",\"TP\" , \"ALB\", \"newAGRatio\"] \n",
    "for i in numerical_columns_features: \n",
    "    #liver_df02_t.describe(i).show()\n",
    "    quantiles_F = liver_df04_dropOutliersTB.approxQuantile(i, [0.25, 0.75], 0.05)\n",
    "    #print ( str(quantiles_F) + \"...\"+i + \"...\" )\n",
    "    IQR_F = quantiles_F[1] - quantiles_F[0]\n",
    "    #print ( str(quantiles_F) + \"...\"+i + \"...IQR_F\"+  str(IQR_F))\n",
    "    bounds_F = [ quantiles_F[0] - 1.5 * IQR_F, quantiles_F[1] + 1.5 * IQR_F ]\n",
    "    #print ( str(quantiles_F) + \"...\"+i + \"...IQR_F\"+  str(IQR_F)+ \"...bounds_F[0]\"+ str(bounds_F[0])+\"..bounds_F[1]\" + str(bounds_F[1]))\n",
    "    #liver_df02_t.filter( (liver_df02_t[i] < bounds_F[0]) | (liver_df02_t[i] > bounds_F[1]) ).show()\n",
    "    no_outliers_F = liver_df02_t.filter( (liver_df04_dropOutliersTB[i] < bounds_F[0]) | (liver_df04_dropOutliersTB[i] > bounds_F[1]) ).count() \n",
    "    print( \"No. of outliers for column [\"+i+\"] > \" + str(no_outliers_F) ) \n",
    "\n",
    "\n",
    "\n",
    "type(liver_df04_dropOutliersTB.count())\n",
    "print ( \"Aftering drop TB Outliers \" + str (liver_df04_dropOutliersTB.count()) )\n",
    "\n",
    "\n",
    "\n",
    "numerical_columns_features = [ \"TB\",\"DB\", \"Alkphos\", \"Sgpt\",\"Sgot\",\"TP\" , \"ALB\", \"newAGRatio\"] \n",
    "for i in numerical_columns_features: \n",
    "    #liver_df02_t.describe(i).show()\n",
    "    quantiles_F = liver_df04_dropOutliersTB.approxQuantile(i, [0.25, 0.75], 0.05)\n",
    "    #print ( str(quantiles_F) + \"...\"+i + \"...\" )\n",
    "    IQR_F = quantiles_F[1] - quantiles_F[0]\n",
    "    #print ( str(quantiles_F) + \"...\"+i + \"...IQR_F\"+  str(IQR_F))\n",
    "    bounds_F = [ quantiles_F[0] - 1.5 * IQR_F, quantiles_F[1] + 1.5 * IQR_F ]\n",
    "    #print ( str(quantiles_F) + \"...\"+i + \"...IQR_F\"+  str(IQR_F)+ \"...bounds_F[0]\"+ str(bounds_F[0])+\"..bounds_F[1]\" + str(bounds_F[1]))\n",
    "    #liver_df02_t.filter( (liver_df02_t[i] < bounds_F[0]) | (liver_df02_t[i] > bounds_F[1]) ).show()\n",
    "    no_outliers_F = liver_df02_t.filter( (liver_df04_dropOutliersTB[i] < bounds_F[0]) | (liver_df04_dropOutliersTB[i] > bounds_F[1]) ).count() \n",
    "    print( \"No. of outliers for column [\"+i+\"] > \" + str(no_outliers_F) ) \n",
    "\n",
    "#lets play woith some box plots \n",
    "plt.figure(figsize=(12,12))\n",
    "liver02P = liver_df04_dropOutliersTB.toPandas()\n",
    "sns.boxplot(data=liver02P,palette='pastel')\n",
    "#sns.palplot(sns.color_palette(\"RdBu\", 10))\n",
    "##cols = liver_df02_t.select(\"Age\", \"Sgot\",\"TP\").toPandas()\n",
    "cols = [\"Age\" ,\"TB\" ,\"DB\" ,\"Alkphos\" ,\"Sgpt\" ,\"Sgot\" ,\"TP\" ,\"ALB\", \"AGRatio\", \"newAGRatio\"] \n",
    "q=1\n",
    "plt.figure(figsize=(15,20))\n",
    "#fig, axes = plt.subplots(1, len(cols))\n",
    "\n",
    "for col in cols:\n",
    "   plt.subplot(5,5,q)\n",
    "   ##ax = sns.boxplot(liver02P[col],color='red')\n",
    "   ax = sns.boxplot(y=liver02P[col],palette='pastel')\n",
    "   ax.set_ylim(liver02P[col].min(), liver02P[col].max())\n",
    "   #ax = sns.boxplot(y=liver02P[col], ax=axes.flatten()[i])\n",
    "   #ax.set_ylim( y=liver02P[col].min(), y=liver02P[col].max())\n",
    "   ax.set_ylabel('')\n",
    "   plt.xlabel(col)\n",
    "   q+=1\n",
    "plt.show()"
   ]
  },
  {
   "cell_type": "code",
   "execution_count": 76,
   "metadata": {},
   "outputs": [
    {
     "name": "stdout",
     "output_type": "stream",
     "text": [
      "['Age', 'TB', 'DB', 'Alkphos', 'Sgpt', 'Sgot', 'TP', 'ALB', 'Class', 'newAGRatio', 'features', 'rawPrediction', 'probability', 'prediction']\n",
      "+-----+-------------+---------------------------------------+----------+\n",
      "|Class|rawPrediction|probability                            |prediction|\n",
      "+-----+-------------+---------------------------------------+----------+\n",
      "|1.0  |[20.0,54.0]  |[0.2702702702702703,0.7297297297297297]|1.0       |\n",
      "|1.0  |[85.0,98.0]  |[0.4644808743169399,0.5355191256830601]|1.0       |\n",
      "|0.0  |[85.0,98.0]  |[0.4644808743169399,0.5355191256830601]|1.0       |\n",
      "|0.0  |[85.0,98.0]  |[0.4644808743169399,0.5355191256830601]|1.0       |\n",
      "|1.0  |[20.0,54.0]  |[0.2702702702702703,0.7297297297297297]|1.0       |\n",
      "|1.0  |[85.0,98.0]  |[0.4644808743169399,0.5355191256830601]|1.0       |\n",
      "|1.0  |[20.0,54.0]  |[0.2702702702702703,0.7297297297297297]|1.0       |\n",
      "|1.0  |[1.0,24.0]   |[0.04,0.96]                            |1.0       |\n",
      "|0.0  |[85.0,98.0]  |[0.4644808743169399,0.5355191256830601]|1.0       |\n",
      "|1.0  |[85.0,98.0]  |[0.4644808743169399,0.5355191256830601]|1.0       |\n",
      "|0.0  |[85.0,98.0]  |[0.4644808743169399,0.5355191256830601]|1.0       |\n",
      "|0.0  |[85.0,98.0]  |[0.4644808743169399,0.5355191256830601]|1.0       |\n",
      "|0.0  |[85.0,98.0]  |[0.4644808743169399,0.5355191256830601]|1.0       |\n",
      "|1.0  |[5.0,0.0]    |[1.0,0.0]                              |0.0       |\n",
      "|1.0  |[1.0,24.0]   |[0.04,0.96]                            |1.0       |\n",
      "|0.0  |[85.0,98.0]  |[0.4644808743169399,0.5355191256830601]|1.0       |\n",
      "|0.0  |[85.0,98.0]  |[0.4644808743169399,0.5355191256830601]|1.0       |\n",
      "|1.0  |[1.0,24.0]   |[0.04,0.96]                            |1.0       |\n",
      "|0.0  |[85.0,98.0]  |[0.4644808743169399,0.5355191256830601]|1.0       |\n",
      "|1.0  |[20.0,54.0]  |[0.2702702702702703,0.7297297297297297]|1.0       |\n",
      "+-----+-------------+---------------------------------------+----------+\n",
      "only showing top 20 rows\n",
      "\n",
      "entropy\n",
      "Accuracy After Dropping TB Outlier > 0.6082903040734365\n"
     ]
    }
   ],
   "source": [
    "#drop gender and do the decision tree \n",
    "liver_df04_dropOutliersTB_X = liver_df04_dropOutliersTB.drop(\"Gender\").drop(\"new_id\").drop(\"AGRatio\")\n",
    "\n",
    "dt_training_data, dt_test_data = liver_df04_dropOutliersTB_X.randomSplit([0.7, 0.3], seed=1)\n",
    "dt_training_data.persist()\n",
    "dt_test_data.persist() \n",
    "\n",
    "import pyspark.ml.feature as ft\n",
    "\n",
    "featuresCreator = ft.VectorAssembler(inputCols=input_cols, outputCol=\"features\")\n",
    "\n",
    "\n",
    "import pyspark.ml.classification as cl\n",
    "\n",
    "dt = cl.DecisionTreeClassifier(labelCol=\"Class\",impurity=\"entropy\") \n",
    "predictions_dt = model_dt.transform(dt_test_data)\n",
    "\n",
    "print (predictions_dt.columns)\n",
    "predictions_dt.select(\"Class\", \"rawPrediction\", \"probability\", \"prediction\").show(truncate=False)\n",
    "\n",
    "import pyspark.ml.evaluation as ev\n",
    "#evaluator_dt = ev.MulticlassClassificationEvaluator(predictionCol=\"prediction\", labelCol=\"Class\", metricName=\"accuracy\")\n",
    "\n",
    "\n",
    "evaluator_dt = ev.BinaryClassificationEvaluator(rawPredictionCol=\"probability\", labelCol=\"Class\")\n",
    "\n",
    "\n",
    "accuracy_dt = evaluator_dt.evaluate(predictions_dt)\n",
    "print( dt.getImpurity()) \n",
    "print( \"Accuracy After Dropping TB Outlier > \" + str(accuracy_dt))"
   ]
  },
  {
   "cell_type": "markdown",
   "metadata": {},
   "source": [
    "### Optional : END Try doing a DT with outliers remove in \"TB\""
   ]
  },
  {
   "cell_type": "code",
   "execution_count": 77,
   "metadata": {},
   "outputs": [
    {
     "name": "stdout",
     "output_type": "stream",
     "text": [
      "Accuracy After Dropping TB Outlier > LR [selected features]...\n",
      "0.6746987951807227\n"
     ]
    }
   ],
   "source": [
    "#run a LR with \n",
    "dt_training_data.persist()\n",
    "dt_test_data.persist() \n",
    "\n",
    "print( \"Accuracy After Dropping TB Outlier > LR [selected features]...\")\n",
    "\n",
    "featuresCreator_LR = ft.VectorAssembler(inputCols=[\"Age\",\n",
    "                                                \"DB\", \"Alkphos\",\n",
    "                                                \"Sgpt\", \"Sgot\",\n",
    "                                                \"ALB\"], \n",
    "                                                outputCol='features')\n",
    "\n",
    "lr = cl.LogisticRegression(regParam=0.01, maxIter=100, elasticNetParam=0.01, labelCol=\"Class\")\n",
    "pipeline_LR = Pipeline( stages = [featuresCreator_LR, lr] )                                                \n",
    "\n",
    "\n",
    "\n",
    "model_LR = pipeline_LR.fit(dt_training_data)\n",
    "predictions_LR = model_LR.transform(dt_test_data)\n",
    "evaluator_LR = ev.BinaryClassificationEvaluator(rawPredictionCol=\"probability\", labelCol=\"Class\")\n",
    "print(evaluator_LR.evaluate(predictions_LR, {evaluator_LR.metricName: 'areaUnderROC'}))\n"
   ]
  }
 ],
 "metadata": {
  "kernelspec": {
   "display_name": "Python 3",
   "language": "python",
   "name": "python3"
  },
  "language_info": {
   "codemirror_mode": {
    "name": "ipython",
    "version": 3
   },
   "file_extension": ".py",
   "mimetype": "text/x-python",
   "name": "python",
   "nbconvert_exporter": "python",
   "pygments_lexer": "ipython3",
   "version": "3.7.6"
  }
 },
 "nbformat": 4,
 "nbformat_minor": 1
}
